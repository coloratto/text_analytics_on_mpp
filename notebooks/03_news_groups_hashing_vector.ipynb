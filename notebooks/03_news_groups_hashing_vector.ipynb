{
 "cells": [
  {
   "cell_type": "markdown",
   "metadata": {},
   "source": [
    "# Classification problem on the Twenty News Groups dataset"
   ]
  },
  {
   "cell_type": "markdown",
   "metadata": {},
   "source": [
    "In this exercise, we'll apply <i>[feature hashing](https://en.wikipedia.org/wiki/Feature_hashing)</i> to create a lower dimensional feature vector of the emails in the <i>twenty newsgroups</i> dataset and build a classifier to identify emails belonging to <i>computer related topics</i> and those which aren't.\n",
    "\n",
    "More information on the <i>Twenty Newsgroups</i> dataset can be found on the [UCI website](http://kdd.ics.uci.edu/databases/20newsgroups/20newsgroups.html)"
   ]
  },
  {
   "cell_type": "markdown",
   "metadata": {},
   "source": [
    "## Setup database connectivity"
   ]
  },
  {
   "cell_type": "markdown",
   "metadata": {},
   "source": [
    "We'll reuse our module from the previous notebook (***`00_database_connectivity_setup.ipynb`***) to establish connectivity to the database"
   ]
  },
  {
   "cell_type": "code",
   "execution_count": 32,
   "metadata": {
    "collapsed": false
   },
   "outputs": [],
   "source": [
    "%run '00_database_connectivity_setup.ipynb'\n",
    "%matplotlib inline\n",
    "from IPython.display import display"
   ]
  },
  {
   "cell_type": "markdown",
   "metadata": {},
   "source": [
    "Your connection object is ***`conn`***:\n",
    "1. Queries: You can run your queries using ***```psql.read_sql(\"\"\"<YOUR SQL>\"\"\", conn)```***.\n",
    "2. Create/Delete/Updates: You can run these statements using ***```psql.execute(\"\"\"<YOUR SQL>\"\"\", conn)```***, followed by a ***```conn.commit()```*** command to ensure your transaction is committed. Otherwise your changes will be rolledback if you terminate your kernel.\n",
    "\n",
    "If you created a new connection object (say to connect to a new cluster) as shown in the last section of `00_database_connectivity_setup.ipynb` notebook, use that connection object where needed."
   ]
  },
  {
   "cell_type": "markdown",
   "metadata": {},
   "source": [
    "## 1. Create your schema"
   ]
  },
  {
   "cell_type": "code",
   "execution_count": null,
   "metadata": {
    "collapsed": true
   },
   "outputs": [],
   "source": [
    "sql = \"\"\"\n",
    "    create schema YOUR_SCHEMA;\n",
    "\"\"\"\n",
    "psql.execute(sql, conn)\n",
    "conn.commit()"
   ]
  },
  {
   "cell_type": "markdown",
   "metadata": {},
   "source": [
    "## 2. Load the Twenty News Groups dataset into a database table"
   ]
  },
  {
   "cell_type": "code",
   "execution_count": 12,
   "metadata": {
    "collapsed": true
   },
   "outputs": [],
   "source": [
    "sql = \"\"\"\n",
    "    -- Define external table to fetch data from HDFS\n",
    "    drop external table if exists YOUR_SCHEMA.twenty_news_groups_ext cascade;\n",
    "    create external table YOUR_SCHEMA.twenty_news_groups_ext\n",
    "    (\n",
    "        doc_id int,\n",
    "        contents text,\n",
    "        label text\n",
    "    ) location ('pxf://hdm1.gphd.local:50070/user/vatsan/dstraining/twenty_news_groups_processed.tsv?profile=hdfstextsimple') \n",
    "    format 'CSV' (DELIMITER = E'\\t');\n",
    "\n",
    "    -- create an internal table\n",
    "    drop table if exists YOUR_SCHEMA.twenty_news_groups cascade;\n",
    "    create table YOUR_SCHEMA.twenty_news_groups\n",
    "    as\n",
    "    (\n",
    "        select \n",
    "            *\n",
    "        from\n",
    "            YOUR_SCHEMA.twenty_news_groups_ext\n",
    "    ) distributed randomly;\n",
    "\"\"\"\n",
    "psql.execute(sql, conn)\n",
    "conn.commit()"
   ]
  },
  {
   "cell_type": "code",
   "execution_count": 13,
   "metadata": {
    "collapsed": false
   },
   "outputs": [
    {
     "data": {
      "text/html": [
       "<div>\n",
       "<table border=\"1\" class=\"dataframe\">\n",
       "  <thead>\n",
       "    <tr style=\"text-align: right;\">\n",
       "      <th></th>\n",
       "      <th>doc_id</th>\n",
       "      <th>contents</th>\n",
       "      <th>label</th>\n",
       "    </tr>\n",
       "  </thead>\n",
       "  <tbody>\n",
       "    <tr>\n",
       "      <th>0</th>\n",
       "      <td>7491</td>\n",
       "      <td>From: russotto@eng.umd.edu (Matthew T. Russott...</td>\n",
       "      <td>talk.religion.misc</td>\n",
       "    </tr>\n",
       "    <tr>\n",
       "      <th>1</th>\n",
       "      <td>4118</td>\n",
       "      <td>From: wihervaa@messi.uku.fi (Mikko Wihervaara)...</td>\n",
       "      <td>rec.sport.hockey</td>\n",
       "    </tr>\n",
       "    <tr>\n",
       "      <th>2</th>\n",
       "      <td>5405</td>\n",
       "      <td>From: chungdan@leland.Stanford.EDU (Zhong Qi I...</td>\n",
       "      <td>sci.med</td>\n",
       "    </tr>\n",
       "    <tr>\n",
       "      <th>3</th>\n",
       "      <td>12635</td>\n",
       "      <td>From: mbeaving@bnr.ca (Michael Beavington)\\nSu...</td>\n",
       "      <td>rec.motorcycles</td>\n",
       "    </tr>\n",
       "    <tr>\n",
       "      <th>4</th>\n",
       "      <td>17799</td>\n",
       "      <td>From: casper@vxcrna.cern.ch (CASPER,DAVI./PPE)...</td>\n",
       "      <td>talk.politics.mideast</td>\n",
       "    </tr>\n",
       "  </tbody>\n",
       "</table>\n",
       "</div>"
      ],
      "text/plain": [
       "   doc_id                                           contents  \\\n",
       "0    7491  From: russotto@eng.umd.edu (Matthew T. Russott...   \n",
       "1    4118  From: wihervaa@messi.uku.fi (Mikko Wihervaara)...   \n",
       "2    5405  From: chungdan@leland.Stanford.EDU (Zhong Qi I...   \n",
       "3   12635  From: mbeaving@bnr.ca (Michael Beavington)\\nSu...   \n",
       "4   17799  From: casper@vxcrna.cern.ch (CASPER,DAVI./PPE)...   \n",
       "\n",
       "                   label  \n",
       "0     talk.religion.misc  \n",
       "1       rec.sport.hockey  \n",
       "2                sci.med  \n",
       "3        rec.motorcycles  \n",
       "4  talk.politics.mideast  "
      ]
     },
     "execution_count": 13,
     "metadata": {},
     "output_type": "execute_result"
    }
   ],
   "source": [
    "sql = \"\"\"\n",
    "    select \n",
    "        *\n",
    "    from\n",
    "       YOUR_SCHEMA.twenty_news_groups\n",
    "    order by random()\n",
    "    limit 10\n",
    "\"\"\"\n",
    "df = psql.read_sql(sql, conn)\n",
    "df.head()"
   ]
  },
  {
   "cell_type": "markdown",
   "metadata": {},
   "source": [
    "## 3. Define UDF for <i>feature hashing</i> (Hashing Vectorizer)"
   ]
  },
  {
   "cell_type": "code",
   "execution_count": 15,
   "metadata": {
    "collapsed": false
   },
   "outputs": [],
   "source": [
    "sql = \"\"\"\n",
    "    -- Define UDF to use hashing trick to return a feature vector for each document\n",
    "    -- in the lower dimensional space\n",
    "    drop function if exists YOUR_SCHEMA.hashing_vectorizer(\n",
    "        text[],\n",
    "        int\n",
    "    );\n",
    "    create or replace function YOUR_SCHEMA.hashing_vectorizer(\n",
    "        doc_contents text[],\n",
    "        num_bits int\n",
    "    )\n",
    "    returns float8[]\n",
    "    as \n",
    "    $$\n",
    "        from sklearn.utils import murmurhash3_32\n",
    "        import numpy as np\n",
    "        #The length of the hashed vector is typically chosen as a power of 2\n",
    "        #for fast computation using bitshifting\n",
    "        #The dimensionality of hashed vector = 2**num_bits\n",
    "        hashing_vector = np.zeros(1 << num_bits)\n",
    "        for w in doc_contents:\n",
    "            hashed_w = murmurhash3_32(w)\n",
    "            #We map the hashed value into an index between 0 to 2**(num_bits)\n",
    "            index_in_vect = hashed_w & ((1 << num_bits)-1)\n",
    "            #Based on Weinberger et. al http://arxiv.org/pdf/0902.2206.pdf\n",
    "            #to ensure hash-collisions cancel out the counts\n",
    "            sign = (hashed_w >= 0)*2.0 - 1.0\n",
    "            hashing_vector[index_in_vect] += sign\n",
    "        return hashing_vector\n",
    "    $$ language plpythonu;\n",
    "\"\"\"\n",
    "psql.execute(sql, conn)\n",
    "conn.commit()"
   ]
  },
  {
   "cell_type": "markdown",
   "metadata": {},
   "source": [
    "## 4. Invoke the hashing vectorizer UDF to create a lower dimensional feature vector of the documents  "
   ]
  },
  {
   "cell_type": "code",
   "execution_count": 67,
   "metadata": {
    "collapsed": false
   },
   "outputs": [],
   "source": [
    "def create_hashing_vector_sql(num_bits):\n",
    "    \"\"\"\n",
    "        Return SQL code to create a hashed vector representation of documents\n",
    "    \"\"\"\n",
    "    sql = \"\"\"\n",
    "        -- Hashing vector feature representation\n",
    "        drop table if exists YOUR_SCHEMA.twenty_news_groups_hashing_vector cascade;\n",
    "        create table YOUR_SCHEMA.twenty_news_groups_hashing_vector\n",
    "        as\n",
    "        (\n",
    "            select\n",
    "                doc_id,\n",
    "                YOUR_SCHEMA.hashing_vectorizer(\n",
    "                    array_agg(token order by token),\n",
    "                    -- num_bits = 6 => size of feature vector = 2^6 = 64\n",
    "                    {num_bits}\n",
    "                ) as feature_vector,\n",
    "                max(label) as label\n",
    "            from\n",
    "            (\n",
    "                select\n",
    "                    *\n",
    "                from\n",
    "                (\n",
    "                    select\n",
    "                        doc_id,\n",
    "                        regexp_split_to_table(\n",
    "                            --convert to lower case\n",
    "                            --replace newlines/carriage returns to space\n",
    "                            regexp_replace(lower(contents), E'\\\\r|\\\\n', ' ', 'g'), \n",
    "                            E'\\\\\\s+'        \n",
    "                        ) as token,\n",
    "                        -- to create a binary classification problem\n",
    "                        -- consider the task as being able to predict if a document is related to computers or not            \n",
    "                        case \n",
    "                            when label ~* 'comp.*' then 1 \n",
    "                            else 0\n",
    "                        end as label    \n",
    "                    from\n",
    "                        YOUR_SCHEMA.twenty_news_groups\n",
    "                )q1\n",
    "                where\n",
    "                    --Remove stopwords\n",
    "                    token not in (\n",
    "                        'a\\\\'s','able','about','above','according','accordingly','across','actually','after','afterwards','again','against','ain\\\\'t',\n",
    "                        'all','allow','allows','almost','alone','along','already','also','although','always','am','among','amongst','an','and',\n",
    "                        'another','any','anybody','anyhow','anyone','anything','anyway','anyways','anywhere','apart','appear','appreciate',\n",
    "                        'appropriate','are','aren\\\\'t','around','as','aside','ask','asking','associated','at','available','away','awfully',\n",
    "                        'be','became','because','become','becomes','becoming','been','before','beforehand','behind','being','believe','below',\n",
    "                        'beside','besides','best','better','between','beyond','both','brief','but','by','c\\\\'mon','c\\\\'s','came','can','can\\\\'t',\n",
    "                        'cannot','cant','cause','causes','certain','certainly','changes','clearly','co','com','come','comes','concerning','consequently',\n",
    "                        'consider','considering','contain','containing','contains','corresponding','could','couldn\\\\'t','course','currently','definitely',\n",
    "                        'described','despite','did','didn\\\\'t','different','do','does','doesn\\\\'t','doing','don\\\\'t','done','down','downwards','during',\n",
    "                        'each','edu','eg','eight','either','else','elsewhere','enough','entirely','especially','et','etc','even','ever','every',\n",
    "                        'everybody','everyone','everything','everywhere','ex','exactly','example','except','far','few','fifth','first','five',\n",
    "                        'followed','following','follows','for','former','formerly','forth','four','from','further','furthermore','get','gets',\n",
    "                        'getting','given','gives','go','goes','going','gone','got','gotten','greetings','had','hadn\\\\'t','happens','hardly','has',\n",
    "                        'hasn\\\\'t','have','haven\\\\'t','having','he','he\\\\'s','hello','help','hence','her','here','here\\\\'s','hereafter','hereby','herein',\n",
    "                        'hereupon','hers','herself','hi','him','himself','his','hither','hopefully','how','howbeit','however','i\\\\'d','i\\\\'ll','i\\\\'m',\n",
    "                        'i\\\\'ve','ie','if','ignored','immediate','in','inasmuch','inc','indeed','indicate','indicated','indicates','inner','insofar',\n",
    "                        'instead','into','inward','is','isn\\\\'t','it','it\\\\'d','it\\\\'ll','it\\\\'s','its','itself','just','keep','keeps','kept','know','knows',\n",
    "                        'known','last','lately','later','latter','latterly','least','less','lest','let','let\\\\'s','like','liked','likely','little','look',\n",
    "                        'looking','looks','ltd','mainly','many','may','maybe','me','mean','meanwhile','merely','might','more','moreover','most','mostly',\n",
    "                        'much','must','my','myself','name','namely','nd','near','nearly','necessary','need','needs','neither','never','nevertheless','new',\n",
    "                        'next','nine','no','nobody','non','none','noone','nor','normally','not','nothing','novel','now','nowhere','obviously','of','off',\n",
    "                        'often','oh','ok','okay','old','on','once','one','ones','only','onto','or','other','others','otherwise','ought','our','ours',\n",
    "                        'ourselves','out','outside','over','overall','own','particular','particularly','per','perhaps','placed','please','plus','possible',\n",
    "                        'presumably','probably','provides','que','quite','qv','rather','rd','re','really','reasonably','regarding','regardless','regards',\n",
    "                        'relatively','respectively','right','said','same','saw','say','saying','says','second','secondly','see','seeing','seem','seemed',\n",
    "                        'seeming','seems','seen','self','selves','sensible','sent','serious','seriously','seven','several','shall','she','should',\n",
    "                        'shouldn\\\\'t','since','six','so','some','somebody','somehow','someone','something','sometime','sometimes','somewhat','somewhere',\n",
    "                        'soon','sorry','specified','specify','specifying','still','sub','such','sup','sure','t\\\\'s','take','taken','tell','tends','th',\n",
    "                        'than','thank','thanks','thanx','that','that\\\\'s','thats','the','their','theirs','them','themselves','then','thence','there',\n",
    "                        'there\\\\'s','thereafter','thereby','therefore','therein','theres','thereupon','these','they','they\\\\'d','they\\\\'ll','they\\\\'re',\n",
    "                        'they\\\\'ve','think','third','this','thorough','thoroughly','those','though','three','through','throughout','thru','thus','to',\n",
    "                        'together','too','took','toward','towards','tried','tries','truly','try','trying','twice','two','un','under','unfortunately',\n",
    "                        'unless','unlikely','until','unto','up','upon','us','use','used','useful','uses','using','usually','value','various','very',\n",
    "                        'via','viz','vs','want','wants','was','wasn\\\\'t','way','we','we\\\\'d','we\\\\'ll','we\\\\'re','we\\\\'ve','welcome','well','went','were',\n",
    "                        'weren\\\\'t','what','what\\\\'s','whatever','when','whence','whenever','where','where\\\\'s','whereafter','whereas','whereby','wherein',\n",
    "                        'whereupon','wherever','whether','which','while','whither','who','who\\\\'s','whoever','whole','whom','whose','why','will',\n",
    "                        'willing','wish','with','within','without','won\\\\'t','wonder','would','would','wouldn\\\\'t','yes','yet','you','you\\\\'d','you\\\\'ll',\n",
    "                        'you\\\\'re','you\\\\'ve','your','yours','yourself','yourselves','zero'\n",
    "                    )\n",
    "            )q2\n",
    "            group by doc_id\n",
    "        ) distributed randomly;\n",
    "    \"\"\".format(\n",
    "        num_bits=num_bits\n",
    "    )\n",
    "    return sql"
   ]
  },
  {
   "cell_type": "code",
   "execution_count": 68,
   "metadata": {
    "collapsed": false
   },
   "outputs": [],
   "source": [
    "num_bits = 6\n",
    "psql.execute(create_hashing_vector_sql(num_bits), conn)\n",
    "conn.commit()"
   ]
  },
  {
   "cell_type": "markdown",
   "metadata": {},
   "source": [
    "## 5. Create train & test split    "
   ]
  },
  {
   "cell_type": "code",
   "execution_count": 69,
   "metadata": {
    "collapsed": true
   },
   "outputs": [],
   "source": [
    "def create_train_test_split_sql():\n",
    "    \"\"\"\n",
    "        Return SQL code for creating train and test split\n",
    "    \"\"\"\n",
    "    sql = \"\"\"\n",
    "        -- Set the seed to ensure the random splits are repeatable\n",
    "        -- This is important if you want to measure performance \n",
    "        -- of classifiers based by varying the \"num_bits\" parameter\n",
    "        -- Note: You should run the setseed() statement and the following create temp table statement as a single\n",
    "        -- transaction.\n",
    "        select setseed(0.5);\n",
    "        drop table if exists hashing_vector_train_test_split cascade;\n",
    "        create temp table hashing_vector_train_test_split\n",
    "        as\n",
    "        (\n",
    "            select\n",
    "                doc_id,\n",
    "                feature_vector,\n",
    "                label,\n",
    "                random() as splitter\n",
    "            from\n",
    "                YOUR_SCHEMA.twenty_news_groups_hashing_vector\n",
    "            order by\n",
    "                doc_id\n",
    "        ) distributed randomly;\n",
    "\n",
    "        -- Training set\n",
    "        drop table if exists YOUR_SCHEMA.hashing_vector_training_set cascade;\n",
    "        create table YOUR_SCHEMA.hashing_vector_training_set\n",
    "        as\n",
    "        (\n",
    "            select \n",
    "                doc_id,\n",
    "                feature_vector,\n",
    "                label\n",
    "            from\n",
    "                hashing_vector_train_test_split\n",
    "            where \n",
    "                splitter <= 0.75\n",
    "        ) distributed randomly;\n",
    "\n",
    "        -- Test set\n",
    "        drop table if exists YOUR_SCHEMA.hashing_vector_test_set cascade;\n",
    "        create table YOUR_SCHEMA.hashing_vector_test_set\n",
    "        as\n",
    "        (\n",
    "            select \n",
    "                doc_id,\n",
    "                feature_vector,\n",
    "                label\n",
    "            from\n",
    "                hashing_vector_train_test_split\n",
    "            where \n",
    "                splitter > 0.75\n",
    "        ) distributed randomly; \n",
    "    \"\"\"\n",
    "    return sql"
   ]
  },
  {
   "cell_type": "code",
   "execution_count": 70,
   "metadata": {
    "collapsed": true
   },
   "outputs": [],
   "source": [
    "psql.execute(create_train_test_split_sql(), conn)\n",
    "conn.commit()"
   ]
  },
  {
   "cell_type": "markdown",
   "metadata": {},
   "source": [
    "## 6. Train Classifier"
   ]
  },
  {
   "cell_type": "code",
   "execution_count": 71,
   "metadata": {
    "collapsed": false
   },
   "outputs": [],
   "source": [
    "def train_classifier_sql():\n",
    "    \"\"\"\n",
    "        Return SQL for training the classifier\n",
    "    \"\"\"\n",
    "    sql = \"\"\"\n",
    "        drop table if exists YOUR_SCHEMA.hashing_vector_logregr_mdl;\n",
    "        drop table if exists YOUR_SCHEMA.hashing_vector_logregr_mdl_summary;\n",
    "        select \n",
    "            madlib.logregr_train( \n",
    "                'YOUR_SCHEMA.hashing_vector_training_set',\n",
    "                'YOUR_SCHEMA.hashing_vector_logregr_mdl',\n",
    "                'label',\n",
    "                'feature_vector',\n",
    "                NULL,\n",
    "                20,\n",
    "                'irls'\n",
    "        );\n",
    "    \"\"\"\n",
    "    return sql"
   ]
  },
  {
   "cell_type": "code",
   "execution_count": 72,
   "metadata": {
    "collapsed": false
   },
   "outputs": [],
   "source": [
    "psql.execute(train_classifier_sql(), conn)\n",
    "conn.commit()"
   ]
  },
  {
   "cell_type": "markdown",
   "metadata": {},
   "source": [
    "## 7. Score using the trained classifier "
   ]
  },
  {
   "cell_type": "code",
   "execution_count": 73,
   "metadata": {
    "collapsed": false
   },
   "outputs": [],
   "source": [
    "def score_classifier_sql():\n",
    "    \"\"\"\n",
    "        Return SQL code to score using the trained classifier\n",
    "    \"\"\"\n",
    "    sql = \"\"\"\n",
    "        drop table if exists YOUR_SCHEMA.hashing_vector_prediction_results cascade;\n",
    "        create table YOUR_SCHEMA.hashing_vector_prediction_results\n",
    "        as\n",
    "        (\n",
    "            select\n",
    "                doc_id,\n",
    "                label as actual_label,\n",
    "                madlib.logregr_predict(\n",
    "                    coef,\n",
    "                    feature_vector\n",
    "                ) as predicted_label,            \n",
    "                madlib.logregr_predict_prob(\n",
    "                    coef,\n",
    "                    feature_vector\n",
    "                ) as predicted_label_proba\n",
    "            from\n",
    "                YOUR_SCHEMA.hashing_vector_logregr_mdl mdl,\n",
    "                YOUR_SCHEMA.hashing_vector_test_set test_set\n",
    "        ) distributed randomly;\n",
    "    \"\"\"\n",
    "    return sql"
   ]
  },
  {
   "cell_type": "code",
   "execution_count": 74,
   "metadata": {
    "collapsed": true
   },
   "outputs": [],
   "source": [
    "psql.execute(score_classifier_sql(), conn)\n",
    "conn.commit()"
   ]
  },
  {
   "cell_type": "markdown",
   "metadata": {},
   "source": [
    "## 8. Test ROC"
   ]
  },
  {
   "cell_type": "code",
   "execution_count": 75,
   "metadata": {
    "collapsed": false
   },
   "outputs": [
    {
     "data": {
      "text/html": [
       "<div>\n",
       "<table border=\"1\" class=\"dataframe\">\n",
       "  <thead>\n",
       "    <tr style=\"text-align: right;\">\n",
       "      <th></th>\n",
       "      <th>doc_id</th>\n",
       "      <th>actual_label</th>\n",
       "      <th>predicted_label</th>\n",
       "      <th>predicted_label_proba</th>\n",
       "    </tr>\n",
       "  </thead>\n",
       "  <tbody>\n",
       "    <tr>\n",
       "      <th>0</th>\n",
       "      <td>5899</td>\n",
       "      <td>0</td>\n",
       "      <td>False</td>\n",
       "      <td>2.676318e-01</td>\n",
       "    </tr>\n",
       "    <tr>\n",
       "      <th>1</th>\n",
       "      <td>18362</td>\n",
       "      <td>0</td>\n",
       "      <td>False</td>\n",
       "      <td>7.526014e-20</td>\n",
       "    </tr>\n",
       "    <tr>\n",
       "      <th>2</th>\n",
       "      <td>11059</td>\n",
       "      <td>0</td>\n",
       "      <td>False</td>\n",
       "      <td>4.859922e-01</td>\n",
       "    </tr>\n",
       "    <tr>\n",
       "      <th>3</th>\n",
       "      <td>8868</td>\n",
       "      <td>1</td>\n",
       "      <td>True</td>\n",
       "      <td>5.402112e-01</td>\n",
       "    </tr>\n",
       "    <tr>\n",
       "      <th>4</th>\n",
       "      <td>17745</td>\n",
       "      <td>0</td>\n",
       "      <td>False</td>\n",
       "      <td>3.113797e-01</td>\n",
       "    </tr>\n",
       "  </tbody>\n",
       "</table>\n",
       "</div>"
      ],
      "text/plain": [
       "   doc_id  actual_label predicted_label  predicted_label_proba\n",
       "0    5899             0           False           2.676318e-01\n",
       "1   18362             0           False           7.526014e-20\n",
       "2   11059             0           False           4.859922e-01\n",
       "3    8868             1            True           5.402112e-01\n",
       "4   17745             0           False           3.113797e-01"
      ]
     },
     "execution_count": 75,
     "metadata": {},
     "output_type": "execute_result"
    }
   ],
   "source": [
    "sql = \"\"\"\n",
    "    select\n",
    "        doc_id,\n",
    "        actual_label,\n",
    "        predicted_label,\n",
    "        predicted_label_proba\n",
    "    from\n",
    "        YOUR_SCHEMA.hashing_vector_prediction_results\n",
    "\"\"\"\n",
    "df = psql.read_sql(sql, conn)\n",
    "df.head()"
   ]
  },
  {
   "cell_type": "code",
   "execution_count": 76,
   "metadata": {
    "collapsed": false
   },
   "outputs": [],
   "source": [
    "def plot_roc(num_bits):\n",
    "    \"\"\"\n",
    "        Show the ROC curve for the prediction results from the model\n",
    "    \"\"\"\n",
    "    sql = \"\"\"\n",
    "        select\n",
    "            doc_id,\n",
    "            actual_label,\n",
    "            predicted_label,\n",
    "            predicted_label_proba\n",
    "        from\n",
    "            YOUR_SCHEMA.hashing_vector_prediction_results\n",
    "    \"\"\"\n",
    "    df = psql.read_sql(sql, conn)\n",
    "    from sklearn import metrics\n",
    "    import seaborn as sns\n",
    "    import matplotlib.pyplot as plt\n",
    "    import pandas as pd\n",
    "    import numpy as np\n",
    "    fpr, tpr, thresholds = metrics.roc_curve(\n",
    "                                df['actual_label'].tolist(),\n",
    "                                df['predicted_label_proba'].tolist(), \n",
    "                                pos_label=1\n",
    "                            )\n",
    "    auc = metrics.auc(fpr, tpr)\n",
    "    rocdf = pd.DataFrame(np.transpose([fpr, tpr, thresholds]), columns = ['fpr','tpr','thresholds'])\n",
    "    rocdf.plot(x='fpr',y='tpr', label='AUC:{0}'.format(auc))\n",
    "    plt.xlabel('False Positive Rate')\n",
    "    plt.ylabel('True Positive Rate')\n",
    "    plt.title('Logistic regression model on hashed vector of size {0}'.format(1<<num_bits))\n",
    "    plt.show()"
   ]
  },
  {
   "cell_type": "code",
   "execution_count": 77,
   "metadata": {
    "collapsed": false
   },
   "outputs": [
    {
     "data": {
      "image/png": "[encoded data removed]",
      "text/plain": [
       "<matplotlib.figure.Figure at 0x10d19e650>"
      ]
     },
     "metadata": {},
     "output_type": "display_data"
    }
   ],
   "source": [
    "plot_roc(num_bits)"
   ]
  },
  {
   "cell_type": "markdown",
   "metadata": {},
   "source": [
    "## 9. Increase num_bits and measure effect on classification accuracy"
   ]
  },
  {
   "cell_type": "code",
   "execution_count": 78,
   "metadata": {
    "collapsed": false
   },
   "outputs": [
    {
     "data": {
      "image/png": "[encoded data removed]",
      "text/plain": [
       "<matplotlib.figure.Figure at 0x10d19e850>"
      ]
     },
     "metadata": {},
     "output_type": "display_data"
    }
   ],
   "source": [
    "num_bits = 8\n",
    "psql.execute(create_hashing_vector_sql(num_bits), conn)\n",
    "psql.execute(create_train_test_split_sql(), conn)\n",
    "psql.execute(train_classifier_sql(), conn)\n",
    "psql.execute(score_classifier_sql(), conn)\n",
    "plot_roc(num_bits)\n",
    "conn.commit()"
   ]
  },
  {
   "cell_type": "code",
   "execution_count": 79,
   "metadata": {
    "collapsed": false
   },
   "outputs": [
    {
     "data": {
      "image/png": "[encoded data removed]",
      "text/plain": [
       "<matplotlib.figure.Figure at 0x10ccda9d0>"
      ]
     },
     "metadata": {},
     "output_type": "display_data"
    }
   ],
   "source": [
    "num_bits = 9\n",
    "psql.execute(create_hashing_vector_sql(num_bits), conn)\n",
    "psql.execute(create_train_test_split_sql(), conn)\n",
    "psql.execute(train_classifier_sql(), conn)\n",
    "psql.execute(score_classifier_sql(), conn)\n",
    "plot_roc(num_bits)\n",
    "conn.commit()"
   ]
  },
  {
   "cell_type": "code",
   "execution_count": 80,
   "metadata": {
    "collapsed": false
   },
   "outputs": [
    {
     "data": {
      "image/png": "[encoded data removed]",
      "text/plain": [
       "<matplotlib.figure.Figure at 0x10d156c90>"
      ]
     },
     "metadata": {},
     "output_type": "display_data"
    }
   ],
   "source": [
    "num_bits = 10\n",
    "psql.execute(create_hashing_vector_sql(num_bits), conn)\n",
    "psql.execute(create_train_test_split_sql(), conn)\n",
    "psql.execute(train_classifier_sql(), conn)\n",
    "psql.execute(score_classifier_sql(), conn)\n",
    "plot_roc(num_bits)\n",
    "conn.commit()"
   ]
  }
 ],
 "metadata": {
  "kernelspec": {
   "display_name": "Python 2",
   "language": "python",
   "name": "python2"
  },
  "language_info": {
   "codemirror_mode": {
    "name": "ipython",
    "version": 2
   },
   "file_extension": ".py",
   "mimetype": "text/x-python",
   "name": "python",
   "nbconvert_exporter": "python",
   "pygments_lexer": "ipython2",
   "version": "2.7.10"
  }
 },
 "nbformat": 4,
 "nbformat_minor": 0
}
