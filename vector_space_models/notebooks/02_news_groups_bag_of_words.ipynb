{
 "cells": [
  {
   "cell_type": "markdown",
   "metadata": {},
   "source": [
    "# Classification problem on the Twenty News Groups dataset"
   ]
  },
  {
   "cell_type": "markdown",
   "metadata": {},
   "source": [
    "In this exercise, we'll use a simple <i>[bag-of-words](https://en.wikipedia.org/wiki/Bag-of-words_model)</i> model of term frequencies to create feature vectors of the emails in the <i>twenty newsgroups</i> dataset and build a classifier to identify emails belonging to <i>computer related topics</i> and those which aren't.\n",
    "\n",
    "More information on the <i>Twenty Newsgroups</i> dataset can be found on the [UCI website](http://kdd.ics.uci.edu/databases/20newsgroups/20newsgroups.html)"
   ]
  },
  {
   "cell_type": "markdown",
   "metadata": {},
   "source": [
    "## Setup database connectivity"
   ]
  },
  {
   "cell_type": "markdown",
   "metadata": {},
   "source": [
    "We'll reuse our module from the previous notebook (***`00_database_connectivity_setup.ipynb`***) to establish connectivity to the database"
   ]
  },
  {
   "cell_type": "code",
   "execution_count": 7,
   "metadata": {
    "collapsed": false
   },
   "outputs": [],
   "source": [
    "%run '00_database_connectivity_setup.ipynb'\n",
    "%matplotlib inline\n",
    "from IPython.display import display"
   ]
  },
  {
   "cell_type": "markdown",
   "metadata": {},
   "source": [
    "Your connection object is ***`conn`***:\n",
    "1. Queries: You can run your queries using ***```psql.read_sql(\"\"\"<YOUR SQL>\"\"\", conn)```***.\n",
    "2. Create/Delete/Updates: You can run these statements using ***```psql.execute(\"\"\"<YOUR SQL>\"\"\", conn)```***, followed by a ***```conn.commit()```*** command to ensure your transaction is committed. Otherwise your changes will be rolledback if you terminate your kernel.\n",
    "\n",
    "If you created a new connection object (say to connect to a new cluster) as shown in the last section of `00_database_connectivity_setup.ipynb` notebook, use that connection object where needed."
   ]
  },
  {
   "cell_type": "markdown",
   "metadata": {},
   "source": [
    "## 1. Create your schema"
   ]
  },
  {
   "cell_type": "code",
   "execution_count": null,
   "metadata": {
    "collapsed": true
   },
   "outputs": [],
   "source": [
    "sql = \"\"\"\n",
    "    create schema YOUR_SCHEMA;\n",
    "\"\"\"\n",
    "psql.execute(sql, conn)\n",
    "conn.commit()"
   ]
  },
  {
   "cell_type": "markdown",
   "metadata": {},
   "source": [
    "## 2. Load the Twenty News Groups dataset into a database table"
   ]
  },
  {
   "cell_type": "code",
   "execution_count": 12,
   "metadata": {
    "collapsed": true
   },
   "outputs": [],
   "source": [
    "sql = \"\"\"\n",
    "    -- Define external table to fetch data from HDFS\n",
    "    drop external table if exists YOUR_SCHEMA.twenty_news_groups_ext cascade;\n",
    "    create external table YOUR_SCHEMA.twenty_news_groups_ext\n",
    "    (\n",
    "        doc_id int,\n",
    "        contents text,\n",
    "        label text\n",
    "    ) location ('pxf://hdm1.gphd.local:50070/user/vatsan/dstraining/twenty_news_groups_processed.tsv?profile=hdfstextsimple') \n",
    "    format 'CSV' (DELIMITER = E'\\t');\n",
    "\n",
    "    -- create an internal table\n",
    "    drop table if exists YOUR_SCHEMA.twenty_news_groups cascade;\n",
    "    create table YOUR_SCHEMA.twenty_news_groups\n",
    "    as\n",
    "    (\n",
    "        select \n",
    "            *\n",
    "        from\n",
    "            YOUR_SCHEMA.twenty_news_groups_ext\n",
    "    ) distributed randomly;\n",
    "\"\"\"\n",
    "psql.execute(sql, conn)\n",
    "conn.commit()"
   ]
  },
  {
   "cell_type": "code",
   "execution_count": 13,
   "metadata": {
    "collapsed": false
   },
   "outputs": [
    {
     "data": {
      "text/html": [
       "<div>\n",
       "<table border=\"1\" class=\"dataframe\">\n",
       "  <thead>\n",
       "    <tr style=\"text-align: right;\">\n",
       "      <th></th>\n",
       "      <th>doc_id</th>\n",
       "      <th>contents</th>\n",
       "      <th>label</th>\n",
       "    </tr>\n",
       "  </thead>\n",
       "  <tbody>\n",
       "    <tr>\n",
       "      <th>0</th>\n",
       "      <td>7491</td>\n",
       "      <td>From: russotto@eng.umd.edu (Matthew T. Russott...</td>\n",
       "      <td>talk.religion.misc</td>\n",
       "    </tr>\n",
       "    <tr>\n",
       "      <th>1</th>\n",
       "      <td>4118</td>\n",
       "      <td>From: wihervaa@messi.uku.fi (Mikko Wihervaara)...</td>\n",
       "      <td>rec.sport.hockey</td>\n",
       "    </tr>\n",
       "    <tr>\n",
       "      <th>2</th>\n",
       "      <td>5405</td>\n",
       "      <td>From: chungdan@leland.Stanford.EDU (Zhong Qi I...</td>\n",
       "      <td>sci.med</td>\n",
       "    </tr>\n",
       "    <tr>\n",
       "      <th>3</th>\n",
       "      <td>12635</td>\n",
       "      <td>From: mbeaving@bnr.ca (Michael Beavington)\\nSu...</td>\n",
       "      <td>rec.motorcycles</td>\n",
       "    </tr>\n",
       "    <tr>\n",
       "      <th>4</th>\n",
       "      <td>17799</td>\n",
       "      <td>From: casper@vxcrna.cern.ch (CASPER,DAVI./PPE)...</td>\n",
       "      <td>talk.politics.mideast</td>\n",
       "    </tr>\n",
       "  </tbody>\n",
       "</table>\n",
       "</div>"
      ],
      "text/plain": [
       "   doc_id                                           contents  \\\n",
       "0    7491  From: russotto@eng.umd.edu (Matthew T. Russott...   \n",
       "1    4118  From: wihervaa@messi.uku.fi (Mikko Wihervaara)...   \n",
       "2    5405  From: chungdan@leland.Stanford.EDU (Zhong Qi I...   \n",
       "3   12635  From: mbeaving@bnr.ca (Michael Beavington)\\nSu...   \n",
       "4   17799  From: casper@vxcrna.cern.ch (CASPER,DAVI./PPE)...   \n",
       "\n",
       "                   label  \n",
       "0     talk.religion.misc  \n",
       "1       rec.sport.hockey  \n",
       "2                sci.med  \n",
       "3        rec.motorcycles  \n",
       "4  talk.politics.mideast  "
      ]
     },
     "execution_count": 13,
     "metadata": {},
     "output_type": "execute_result"
    }
   ],
   "source": [
    "sql = \"\"\"\n",
    "    select \n",
    "        *\n",
    "    from\n",
    "       YOUR_SCHEMA.twenty_news_groups\n",
    "    order by random()\n",
    "    limit 10\n",
    "\"\"\"\n",
    "df = psql.read_sql(sql, conn)\n",
    "df.head()"
   ]
  },
  {
   "cell_type": "markdown",
   "metadata": {},
   "source": [
    "## 3. Tokenize the documents and create an inverted index"
   ]
  },
  {
   "cell_type": "code",
   "execution_count": 30,
   "metadata": {
    "collapsed": false
   },
   "outputs": [],
   "source": [
    "sql = \"\"\"\n",
    "    --1) Create inverted index, compute term frequencies\n",
    "    drop table if exists YOUR_SCHEMA.twenty_news_groups_term_frequencies cascade;\n",
    "    create table YOUR_SCHEMA.twenty_news_groups_term_frequencies\n",
    "    as\n",
    "    (\n",
    "        select\n",
    "            token,\n",
    "            doc_id,\n",
    "            count(*) as tf\n",
    "        from\n",
    "        (\n",
    "            select\n",
    "                doc_id,\n",
    "                regexp_split_to_table(\n",
    "                    --convert to lower case\n",
    "                    --replace newlines/carriage returns to space\n",
    "                    regexp_replace(lower(contents), E'\\\\r|\\\\n', ' ', 'g'), \n",
    "                    E'\\\\\\s+'\n",
    "                ) as token\n",
    "            from\n",
    "                YOUR_SCHEMA.twenty_news_groups\n",
    "        )q\n",
    "        group by token, doc_id    \n",
    "    ) distributed randomly;\n",
    " \n",
    "    --2) Remove stop words and filter out tokens which don't occur in atleast 2% of the documents\n",
    "    -- This defines our vocabulary\n",
    "    drop table if exists YOUR_SCHEMA.twenty_news_groups_vocabulary cascade;\n",
    "    create table YOUR_SCHEMA.twenty_news_groups_vocabulary\n",
    "    as\n",
    "    (\n",
    "        select\n",
    "            token\n",
    "        from\n",
    "        (\n",
    "            select\n",
    "                token,\n",
    "                count(distinct doc_id) as num_docs\n",
    "            from\n",
    "                YOUR_SCHEMA.twenty_news_groups_term_frequencies\n",
    "            where\n",
    "                -- Remove stopwords\n",
    "                token not in (\n",
    "                    'a\\\\'s','able','about','above','according','accordingly','across','actually','after','afterwards','again','against','ain\\\\'t',\n",
    "                    'all','allow','allows','almost','alone','along','already','also','although','always','am','among','amongst','an','and',\n",
    "                    'another','any','anybody','anyhow','anyone','anything','anyway','anyways','anywhere','apart','appear','appreciate',\n",
    "                    'appropriate','are','aren\\\\'t','around','as','aside','ask','asking','associated','at','available','away','awfully',\n",
    "                    'be','became','because','become','becomes','becoming','been','before','beforehand','behind','being','believe','below',\n",
    "                    'beside','besides','best','better','between','beyond','both','brief','but','by','c\\\\'mon','c\\\\'s','came','can','can\\\\'t',\n",
    "                    'cannot','cant','cause','causes','certain','certainly','changes','clearly','co','com','come','comes','concerning','consequently',\n",
    "                    'consider','considering','contain','containing','contains','corresponding','could','couldn\\\\'t','course','currently','definitely',\n",
    "                    'described','despite','did','didn\\\\'t','different','do','does','doesn\\\\'t','doing','don\\\\'t','done','down','downwards','during',\n",
    "                    'each','edu','eg','eight','either','else','elsewhere','enough','entirely','especially','et','etc','even','ever','every',\n",
    "                    'everybody','everyone','everything','everywhere','ex','exactly','example','except','far','few','fifth','first','five',\n",
    "                    'followed','following','follows','for','former','formerly','forth','four','from','further','furthermore','get','gets',\n",
    "                    'getting','given','gives','go','goes','going','gone','got','gotten','greetings','had','hadn\\\\'t','happens','hardly','has',\n",
    "                    'hasn\\\\'t','have','haven\\\\'t','having','he','he\\\\'s','hello','help','hence','her','here','here\\\\'s','hereafter','hereby','herein',\n",
    "                    'hereupon','hers','herself','hi','him','himself','his','hither','hopefully','how','howbeit','however','i\\\\'d','i\\\\'ll','i\\\\'m',\n",
    "                    'i\\\\'ve','ie','if','ignored','immediate','in','inasmuch','inc','indeed','indicate','indicated','indicates','inner','insofar',\n",
    "                    'instead','into','inward','is','isn\\\\'t','it','it\\\\'d','it\\\\'ll','it\\\\'s','its','itself','just','keep','keeps','kept','know','knows',\n",
    "                    'known','last','lately','later','latter','latterly','least','less','lest','let','let\\\\'s','like','liked','likely','little','look',\n",
    "                    'looking','looks','ltd','mainly','many','may','maybe','me','mean','meanwhile','merely','might','more','moreover','most','mostly',\n",
    "                    'much','must','my','myself','name','namely','nd','near','nearly','necessary','need','needs','neither','never','nevertheless','new',\n",
    "                    'next','nine','no','nobody','non','none','noone','nor','normally','not','nothing','novel','now','nowhere','obviously','of','off',\n",
    "                    'often','oh','ok','okay','old','on','once','one','ones','only','onto','or','other','others','otherwise','ought','our','ours',\n",
    "                    'ourselves','out','outside','over','overall','own','particular','particularly','per','perhaps','placed','please','plus','possible',\n",
    "                    'presumably','probably','provides','que','quite','qv','rather','rd','re','really','reasonably','regarding','regardless','regards',\n",
    "                    'relatively','respectively','right','said','same','saw','say','saying','says','second','secondly','see','seeing','seem','seemed',\n",
    "                    'seeming','seems','seen','self','selves','sensible','sent','serious','seriously','seven','several','shall','she','should',\n",
    "                    'shouldn\\\\'t','since','six','so','some','somebody','somehow','someone','something','sometime','sometimes','somewhat','somewhere',\n",
    "                    'soon','sorry','specified','specify','specifying','still','sub','such','sup','sure','t\\\\'s','take','taken','tell','tends','th',\n",
    "                    'than','thank','thanks','thanx','that','that\\\\'s','thats','the','their','theirs','them','themselves','then','thence','there',\n",
    "                    'there\\\\'s','thereafter','thereby','therefore','therein','theres','thereupon','these','they','they\\\\'d','they\\\\'ll','they\\\\'re',\n",
    "                    'they\\\\'ve','think','third','this','thorough','thoroughly','those','though','three','through','throughout','thru','thus','to',\n",
    "                    'together','too','took','toward','towards','tried','tries','truly','try','trying','twice','two','un','under','unfortunately',\n",
    "                    'unless','unlikely','until','unto','up','upon','us','use','used','useful','uses','using','usually','value','various','very',\n",
    "                    'via','viz','vs','want','wants','was','wasn\\\\'t','way','we','we\\\\'d','we\\\\'ll','we\\\\'re','we\\\\'ve','welcome','well','went','were',\n",
    "                    'weren\\\\'t','what','what\\\\'s','whatever','when','whence','whenever','where','where\\\\'s','whereafter','whereas','whereby','wherein',\n",
    "                    'whereupon','wherever','whether','which','while','whither','who','who\\\\'s','whoever','whole','whom','whose','why','will',\n",
    "                    'willing','wish','with','within','without','won\\\\'t','wonder','would','would','wouldn\\\\'t','yes','yet','you','you\\\\'d','you\\\\'ll',\n",
    "                    'you\\\\'re','you\\\\'ve','your','yours','yourself','yourselves','zero'\n",
    "                )\n",
    "            group by token\n",
    "        )t1,\n",
    "        (\n",
    "            select\n",
    "                count(distinct doc_id) as corpus_size\n",
    "            from\n",
    "                YOUR_SCHEMA.twenty_news_groups_term_frequencies\n",
    "        ) t2\n",
    "        where \n",
    "            -- Only consider those tokens which have occurred in atleast 2% of the documents\n",
    "            t1.num_docs >= 0.02*(t2.corpus_size)\n",
    "    ) distributed randomly;\n",
    "\"\"\"\n",
    "psql.execute(sql, conn)\n",
    "conn.commit()"
   ]
  },
  {
   "cell_type": "code",
   "execution_count": 40,
   "metadata": {
    "collapsed": false
   },
   "outputs": [
    {
     "data": {
      "text/html": [
       "<div>\n",
       "<table border=\"1\" class=\"dataframe\">\n",
       "  <thead>\n",
       "    <tr style=\"text-align: right;\">\n",
       "      <th></th>\n",
       "      <th>vocabulary_size</th>\n",
       "    </tr>\n",
       "  </thead>\n",
       "  <tbody>\n",
       "    <tr>\n",
       "      <th>0</th>\n",
       "      <td>634</td>\n",
       "    </tr>\n",
       "  </tbody>\n",
       "</table>\n",
       "</div>"
      ],
      "text/plain": [
       "   vocabulary_size\n",
       "0              634"
      ]
     },
     "metadata": {},
     "output_type": "display_data"
    },
    {
     "data": {
      "text/html": [
       "<div>\n",
       "<table border=\"1\" class=\"dataframe\">\n",
       "  <thead>\n",
       "    <tr style=\"text-align: right;\">\n",
       "      <th></th>\n",
       "      <th>token</th>\n",
       "    </tr>\n",
       "  </thead>\n",
       "  <tbody>\n",
       "    <tr>\n",
       "      <th>0</th>\n",
       "      <td>?</td>\n",
       "    </tr>\n",
       "    <tr>\n",
       "      <th>1</th>\n",
       "      <td>heard</td>\n",
       "    </tr>\n",
       "    <tr>\n",
       "      <th>2</th>\n",
       "      <td>canada</td>\n",
       "    </tr>\n",
       "    <tr>\n",
       "      <th>3</th>\n",
       "      <td>card</td>\n",
       "    </tr>\n",
       "    <tr>\n",
       "      <th>4</th>\n",
       "      <td>level</td>\n",
       "    </tr>\n",
       "    <tr>\n",
       "      <th>5</th>\n",
       "      <td>data</td>\n",
       "    </tr>\n",
       "    <tr>\n",
       "      <th>6</th>\n",
       "      <td>ca</td>\n",
       "    </tr>\n",
       "    <tr>\n",
       "      <th>7</th>\n",
       "      <td>place</td>\n",
       "    </tr>\n",
       "    <tr>\n",
       "      <th>8</th>\n",
       "      <td>phone</td>\n",
       "    </tr>\n",
       "    <tr>\n",
       "      <th>9</th>\n",
       "      <td>friend</td>\n",
       "    </tr>\n",
       "  </tbody>\n",
       "</table>\n",
       "</div>"
      ],
      "text/plain": [
       "    token\n",
       "0       ?\n",
       "1   heard\n",
       "2  canada\n",
       "3    card\n",
       "4   level\n",
       "5    data\n",
       "6      ca\n",
       "7   place\n",
       "8   phone\n",
       "9  friend"
      ]
     },
     "metadata": {},
     "output_type": "display_data"
    },
    {
     "name": "stdout",
     "output_type": "stream",
     "text": [
      "634\n"
     ]
    }
   ],
   "source": [
    "#Print the vocabulary size\n",
    "sql = \"\"\"\n",
    "    select\n",
    "        count(*) as vocabulary_size\n",
    "    from\n",
    "        YOUR_SCHEMA.twenty_news_groups_vocabulary\n",
    "\"\"\"\n",
    "df = psql.read_sql(sql, conn)\n",
    "vocabulary_size = df['vocabulary_size'][0]\n",
    "display(df)\n",
    "display(psql.read_sql(\"select * from YOUR_SCHEMA.twenty_news_groups_vocabulary limit 10\", conn))\n",
    "conn.commit()"
   ]
  },
  {
   "cell_type": "markdown",
   "metadata": {},
   "source": [
    "## 4. Create a bag of words model with term-frequencies as the features"
   ]
  },
  {
   "cell_type": "code",
   "execution_count": 32,
   "metadata": {
    "collapsed": true
   },
   "outputs": [],
   "source": [
    "#UDF to compute term-frequency vector\n",
    "sql = \"\"\"\n",
    "    drop function if exists YOUR_SCHEMA.tf_vectorize(float8[], text[], text[]);\n",
    "    create or replace function YOUR_SCHEMA.tf_vectorize(\n",
    "        tf_arr float8[],\n",
    "        tokens_arr text[],\n",
    "        vocabulary_arr text[]\n",
    "    )\n",
    "    returns float8[]\n",
    "    as\n",
    "    $$\n",
    "        result = [0 for _ in xrange(len(vocabulary_arr))]\n",
    "        idx_map = dict(map(lambda pr: reversed(pr), enumerate(vocabulary_arr)))\n",
    "        tf_dict = dict(zip(tokens_arr, tf_arr))\n",
    "        for key in tf_dict.keys():\n",
    "            if idx_map.has_key(key):\n",
    "                result[idx_map[key]] = tf_dict[key]\n",
    "        return result\n",
    "    $$language plpythonu;\n",
    "\"\"\"\n",
    "psql.execute(sql, conn)\n",
    "conn.commit()"
   ]
  },
  {
   "cell_type": "code",
   "execution_count": 33,
   "metadata": {
    "collapsed": false
   },
   "outputs": [],
   "source": [
    "sql = \"\"\"\n",
    "    drop table if exists YOUR_SCHEMA.twenty_news_groups_bow cascade;\n",
    "    create table YOUR_SCHEMA.twenty_news_groups_bow\n",
    "    as\n",
    "    (\n",
    "        select\n",
    "            doc_id,\n",
    "            YOUR_SCHEMA.tf_vectorize(\n",
    "                tf_arr,\n",
    "                token_arr,\n",
    "                vocab_arr\n",
    "            ) as feature_vector\n",
    "        from\n",
    "            (\n",
    "                select\n",
    "                    doc_id,\n",
    "                    array_agg(tf order by token) as tf_arr,\n",
    "                    array_agg(token order by token) as token_arr\n",
    "                from\n",
    "                    YOUR_SCHEMA.twenty_news_groups_term_frequencies\n",
    "                group by doc_id\n",
    "            )t1,\n",
    "            (\n",
    "                select\n",
    "                    array_agg(token order by token) as vocab_arr\n",
    "                from \n",
    "                    YOUR_SCHEMA.twenty_news_groups_vocabulary\n",
    "            )t2\n",
    "    ) distributed randomly;\n",
    "\"\"\"\n",
    "psql.execute(sql, conn)\n",
    "conn.commit()"
   ]
  },
  {
   "cell_type": "markdown",
   "metadata": {},
   "source": [
    "## 5. Create train & test split    "
   ]
  },
  {
   "cell_type": "code",
   "execution_count": 35,
   "metadata": {
    "collapsed": true
   },
   "outputs": [],
   "source": [
    "sql = \"\"\"\n",
    "    -- Set the seed to ensure the random splits are repeatable\n",
    "    -- This is important if you want to measure performance \n",
    "    -- of classifiers based by varying the \"num_bits\" parameter\n",
    "    -- Note: You should run the setseed() statement and the following create temp table statement as a single\n",
    "    -- transaction.\n",
    "    select setseed(0.5);\n",
    "    drop table if exists bow_vector_train_test_split cascade;\n",
    "    create temp table bow_vector_train_test_split\n",
    "    as\n",
    "    (\n",
    "        select\n",
    "            t1.doc_id,\n",
    "            t1.feature_vector,\n",
    "            -- to create a binary classification problem\n",
    "            -- consider the task as being able to predict if a document is related to computers or not            \n",
    "            case \n",
    "                when t2.label ~* 'comp.*' then 1 \n",
    "                else 0\n",
    "            end as label,\n",
    "            random() as splitter\n",
    "        from\n",
    "            YOUR_SCHEMA.twenty_news_groups_bow t1,\n",
    "            YOUR_SCHEMA.twenty_news_groups t2\n",
    "        where\n",
    "            t1.doc_id = t2.doc_id\n",
    "        order by\n",
    "            doc_id\n",
    "    ) distributed randomly;\n",
    "\n",
    "    -- Training set\n",
    "    drop table if exists YOUR_SCHEMA.bow_vector_training_set cascade;\n",
    "    create table YOUR_SCHEMA.bow_vector_training_set\n",
    "    as\n",
    "    (\n",
    "        select \n",
    "            doc_id,\n",
    "            feature_vector,\n",
    "            label\n",
    "        from\n",
    "            bow_vector_train_test_split\n",
    "        where \n",
    "            splitter <= 0.75\n",
    "    ) distributed randomly;\n",
    "\n",
    "    -- Test set\n",
    "    drop table if exists YOUR_SCHEMA.bow_vector_test_set cascade;\n",
    "    create table YOUR_SCHEMA.bow_vector_test_set\n",
    "    as\n",
    "    (\n",
    "        select \n",
    "            doc_id,\n",
    "            feature_vector,\n",
    "            label\n",
    "        from\n",
    "            bow_vector_train_test_split\n",
    "        where \n",
    "            splitter > 0.75\n",
    "    ) distributed randomly; \n",
    "\"\"\"\n",
    "psql.execute(sql, conn)\n",
    "conn.commit()"
   ]
  },
  {
   "cell_type": "markdown",
   "metadata": {},
   "source": [
    "## 6. Train Classifier"
   ]
  },
  {
   "cell_type": "code",
   "execution_count": 36,
   "metadata": {
    "collapsed": false
   },
   "outputs": [],
   "source": [
    "sql = \"\"\"\n",
    "    drop table if exists YOUR_SCHEMA.bow_vector_logregr_mdl;\n",
    "    drop table if exists YOUR_SCHEMA.bow_vector_logregr_mdl_summary;\n",
    "    select \n",
    "        madlib.logregr_train( \n",
    "            'YOUR_SCHEMA.bow_vector_training_set',\n",
    "            'YOUR_SCHEMA.bow_vector_logregr_mdl',\n",
    "            'label',\n",
    "            'feature_vector',\n",
    "            NULL,\n",
    "            20,\n",
    "            'irls'\n",
    "    );\n",
    "\"\"\"\n",
    "psql.execute(sql, conn)\n",
    "conn.commit()"
   ]
  },
  {
   "cell_type": "markdown",
   "metadata": {},
   "source": [
    "## 7. Score using the trained classifier "
   ]
  },
  {
   "cell_type": "code",
   "execution_count": 37,
   "metadata": {
    "collapsed": false
   },
   "outputs": [],
   "source": [
    "sql = \"\"\"\n",
    "    drop table if exists YOUR_SCHEMA.bow_vector_prediction_results cascade;\n",
    "    create table YOUR_SCHEMA.bow_vector_prediction_results\n",
    "    as\n",
    "    (\n",
    "        select\n",
    "            doc_id,\n",
    "            label as actual_label,\n",
    "            madlib.logregr_predict(\n",
    "                coef,\n",
    "                feature_vector\n",
    "            ) as predicted_label,            \n",
    "            madlib.logregr_predict_prob(\n",
    "                coef,\n",
    "                feature_vector\n",
    "            ) as predicted_label_proba\n",
    "        from\n",
    "            YOUR_SCHEMA.bow_vector_logregr_mdl mdl,\n",
    "            YOUR_SCHEMA.bow_vector_test_set test_set\n",
    "    ) distributed randomly;\n",
    "\"\"\"\n",
    "psql.execute(sql, conn)\n",
    "conn.commit()"
   ]
  },
  {
   "cell_type": "markdown",
   "metadata": {},
   "source": [
    "## 8. Test ROC"
   ]
  },
  {
   "cell_type": "code",
   "execution_count": 42,
   "metadata": {
    "collapsed": false
   },
   "outputs": [
    {
     "data": {
      "text/html": [
       "<div>\n",
       "<table border=\"1\" class=\"dataframe\">\n",
       "  <thead>\n",
       "    <tr style=\"text-align: right;\">\n",
       "      <th></th>\n",
       "      <th>doc_id</th>\n",
       "      <th>actual_label</th>\n",
       "      <th>predicted_label</th>\n",
       "      <th>predicted_label_proba</th>\n",
       "    </tr>\n",
       "  </thead>\n",
       "  <tbody>\n",
       "    <tr>\n",
       "      <th>0</th>\n",
       "      <td>3896</td>\n",
       "      <td>0</td>\n",
       "      <td>False</td>\n",
       "      <td>7.662557e-02</td>\n",
       "    </tr>\n",
       "    <tr>\n",
       "      <th>1</th>\n",
       "      <td>13893</td>\n",
       "      <td>0</td>\n",
       "      <td>False</td>\n",
       "      <td>1.205328e-02</td>\n",
       "    </tr>\n",
       "    <tr>\n",
       "      <th>2</th>\n",
       "      <td>18178</td>\n",
       "      <td>0</td>\n",
       "      <td>False</td>\n",
       "      <td>5.797517e-16</td>\n",
       "    </tr>\n",
       "    <tr>\n",
       "      <th>3</th>\n",
       "      <td>12248</td>\n",
       "      <td>0</td>\n",
       "      <td>False</td>\n",
       "      <td>1.795027e-03</td>\n",
       "    </tr>\n",
       "    <tr>\n",
       "      <th>4</th>\n",
       "      <td>2550</td>\n",
       "      <td>0</td>\n",
       "      <td>False</td>\n",
       "      <td>4.979707e-02</td>\n",
       "    </tr>\n",
       "  </tbody>\n",
       "</table>\n",
       "</div>"
      ],
      "text/plain": [
       "   doc_id  actual_label predicted_label  predicted_label_proba\n",
       "0    3896             0           False           7.662557e-02\n",
       "1   13893             0           False           1.205328e-02\n",
       "2   18178             0           False           5.797517e-16\n",
       "3   12248             0           False           1.795027e-03\n",
       "4    2550             0           False           4.979707e-02"
      ]
     },
     "execution_count": 42,
     "metadata": {},
     "output_type": "execute_result"
    }
   ],
   "source": [
    "sql = \"\"\"\n",
    "    select\n",
    "        doc_id,\n",
    "        actual_label,\n",
    "        predicted_label,\n",
    "        predicted_label_proba\n",
    "    from\n",
    "        YOUR_SCHEMA.bow_vector_prediction_results\n",
    "\"\"\"\n",
    "df = psql.read_sql(sql, conn)\n",
    "df.head()"
   ]
  },
  {
   "cell_type": "code",
   "execution_count": 43,
   "metadata": {
    "collapsed": false
   },
   "outputs": [
    {
     "data": {
      "image/png": "[encoded data removed]",
      "text/plain": [
       "<matplotlib.figure.Figure at 0x10c84aa10>"
      ]
     },
     "metadata": {},
     "output_type": "display_data"
    }
   ],
   "source": [
    "from sklearn import metrics\n",
    "import seaborn as sns\n",
    "import matplotlib.pyplot as plt\n",
    "import pandas as pd\n",
    "import numpy as np\n",
    "fpr, tpr, thresholds = metrics.roc_curve(\n",
    "                            df['actual_label'].tolist(),\n",
    "                            df['predicted_label_proba'].tolist(), \n",
    "                            pos_label=1\n",
    "                        )\n",
    "auc = metrics.auc(fpr, tpr)\n",
    "rocdf = pd.DataFrame(np.transpose([fpr, tpr, thresholds]), columns = ['fpr','tpr','thresholds'])\n",
    "rocdf.plot(x='fpr',y='tpr', label='AUC:{0}'.format(auc))\n",
    "plt.xlabel('False Positive Rate')\n",
    "plt.ylabel('True Positive Rate')\n",
    "plt.title('Logistic regression model on bag-of-words vector of size {0}'.format(vocabulary_size))\n",
    "plt.show()"
   ]
  }
 ],
 "metadata": {
  "kernelspec": {
   "display_name": "Python 2",
   "language": "python",
   "name": "python2"
  },
  "language_info": {
   "codemirror_mode": {
    "name": "ipython",
    "version": 2
   },
   "file_extension": ".py",
   "mimetype": "text/x-python",
   "name": "python",
   "nbconvert_exporter": "python",
   "pygments_lexer": "ipython2",
   "version": "2.7.10"
  }
 },
 "nbformat": 4,
 "nbformat_minor": 0
}
