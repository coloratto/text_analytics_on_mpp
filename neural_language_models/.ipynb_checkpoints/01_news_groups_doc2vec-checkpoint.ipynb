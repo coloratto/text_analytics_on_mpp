{
 "cells": [
  {
   "cell_type": "markdown",
   "metadata": {},
   "source": [
    "# Classification problem on the Twenty News Groups dataset"
   ]
  },
  {
   "cell_type": "markdown",
   "metadata": {},
   "source": [
    "In this exercise, we'll use a [neural language model](http://www.jmlr.org/papers/volume3/bengio03a/bengio03a.pdf) to represent the emails in the <i>twenty newsgroups</i> dataset and build a classifier to identify emails belonging to <i>computer related topics</i> and those which aren't.\n",
    "\n",
    "We'll use the [Paragraph Vector](https://cs.stanford.edu/~quocle/paragraph_vector.pdf) representation as described by Quoc Le et. al to encode the news groups emails as dense vectors and build our classifiers on these dense vectors.\n",
    "\n",
    "More information on the <i>Twenty Newsgroups</i> dataset can be found on the [UCI website](http://kdd.ics.uci.edu/databases/20newsgroups/20newsgroups.html)"
   ]
  },
  {
   "cell_type": "markdown",
   "metadata": {},
   "source": [
    "## Setup database connectivity"
   ]
  },
  {
   "cell_type": "markdown",
   "metadata": {},
   "source": [
    "We'll reuse our module from the previous notebook (***`00_database_connectivity_setup.ipynb`***) to establish connectivity to the database"
   ]
  },
  {
   "cell_type": "code",
   "execution_count": 21,
   "metadata": {
    "collapsed": false
   },
   "outputs": [],
   "source": [
    "%run '00_database_connectivity_setup.ipynb'\n",
    "%matplotlib inline\n",
    "from IPython.display import display\n",
    "import warnings\n",
    "warnings.filterwarnings('ignore')"
   ]
  },
  {
   "cell_type": "markdown",
   "metadata": {},
   "source": [
    "Your connection object is ***`conn`***:\n",
    "1. Queries: You can run your queries using ***```psql.read_sql(\"\"\"<YOUR SQL>\"\"\", conn)```***.\n",
    "2. Create/Delete/Updates: You can run these statements using ***```psql.execute(\"\"\"<YOUR SQL>\"\"\", conn)```***, followed by a ***```conn.commit()```*** command to ensure your transaction is committed. Otherwise your changes will be rolledback if you terminate your kernel.\n",
    "\n",
    "If you created a new connection object (say to connect to a new cluster) as shown in the last section of `00_database_connectivity_setup.ipynb` notebook, use that connection object where needed."
   ]
  },
  {
   "cell_type": "markdown",
   "metadata": {},
   "source": [
    "## 1. Create your schema"
   ]
  },
  {
   "cell_type": "code",
   "execution_count": null,
   "metadata": {
    "collapsed": true
   },
   "outputs": [],
   "source": [
    "sql = \"\"\"\n",
    "    create schema YOUR_SCHEMA;\n",
    "\"\"\"\n",
    "psql.execute(sql, conn)\n",
    "conn.commit()"
   ]
  },
  {
   "cell_type": "markdown",
   "metadata": {},
   "source": [
    "## 2. Load the Twenty News Groups dataset into a database table"
   ]
  },
  {
   "cell_type": "code",
   "execution_count": 12,
   "metadata": {
    "collapsed": true
   },
   "outputs": [],
   "source": [
    "%%execsql\n",
    "-- Define external table to fetch data from HDFS\n",
    "drop external table if exists YOUR_SCHEMA.twenty_news_groups_ext cascade;\n",
    "create external table YOUR_SCHEMA.twenty_news_groups_ext\n",
    "(\n",
    "    doc_id int,\n",
    "    contents text,\n",
    "    label text\n",
    ") location ('pxf://hdm1.gphd.local:50070/user/vatsan/dstraining/twenty_news_groups_processed.tsv?profile=hdfstextsimple') \n",
    "format 'CSV' (DELIMITER = E'\\t');\n",
    "\n",
    "-- create an internal table\n",
    "drop table if exists YOUR_SCHEMA.twenty_news_groups cascade;\n",
    "create table YOUR_SCHEMA.twenty_news_groups\n",
    "as\n",
    "(\n",
    "    select \n",
    "        *\n",
    "    from\n",
    "        YOUR_SCHEMA.twenty_news_groups_ext\n",
    ") distributed randomly;"
   ]
  },
  {
   "cell_type": "code",
   "execution_count": 41,
   "metadata": {
    "collapsed": false
   },
   "outputs": [
    {
     "data": {
      "text/html": [
       "<div>\n",
       "<table border=\"1\" class=\"dataframe\">\n",
       "  <thead>\n",
       "    <tr style=\"text-align: right;\">\n",
       "      <th></th>\n",
       "      <th>doc_id</th>\n",
       "      <th>contents</th>\n",
       "      <th>label</th>\n",
       "    </tr>\n",
       "  </thead>\n",
       "  <tbody>\n",
       "    <tr>\n",
       "      <th>0</th>\n",
       "      <td>58</td>\n",
       "      <td>From: acooper@mac.cc.macalstr.edu (Turin Turambar, ME Department of Utter Misery)\\nSubject: Re: Societally acceptable behavior\\nOrganization: Macalester College\\nLines: 55\\n\\nIn article &lt;C5sA29.14s@news.cso.uiuc.edu&gt;, cobb@alexia.lis.uiuc.edu (Mike Cobb) writes:\\n&gt; I guess I'm delving into a religious language area.  What exactly is morality \\n&gt; or morals?  \\n\\nI hope there is not one- with a subject like this you just have a spiral.  What\\nwould then be a morality of a morality of morals.  Labels don't make arguments. \\nOne really needs a solid measuring stick by which most actions can be\\ninterpreted, even though this would hardly seem moral.  For example \"The best\\nthing for me is to ensure that I will eat and drink enough.  Hence all actions\\nmust be weighed against this one statement.\"  whatever helps this goal is\\n\"moral\", whatever does not is \"immoral\"\\n\\nOf course this leads such a blank space: there are so many different ways to\\nfulfill a goal, one would need a \"hyper-morality\" to apply to just the methods.\\n\\n&gt;I never thought of eating meat to be moral or immoral, but I think\\n&gt; it could be.  How do we differentiate between not doing something because it is\\n&gt; a personal choice or preference and not doing something because we see it as \\n&gt; immoral?  Do we fall to what the basis of these morals are?\\n\\nSeems to me we only consider something moral or immoral if we stop to think\\nabout it long enough  :)  On the other hand, maybe it is our first gut\\nreaction...  Which?  Who knows: perhaps here we have a way to discriminate\\nmorals.  I don't instinctively thing vegetarianism is right (the same way I\\ninstinctively feel torture is wrong), but if I thought about it long enough and\\nlistened to the arguments, I could perhaps reason that it was wrong (is that\\npossible!?  :) )  See the difference?\\n\\n&gt; \\n&gt; Also, consensus positions fall to a might makes right.  Or, as you brought out,\\n&gt; if whatever is right is what is societally mandated then whoever is in control\\n&gt; at the time makes what is right\\n&gt; \\n&gt; MC\\n&gt; MAC\\n&gt; --\\n&gt; ****************************************************************\\n&gt;                                                     Michael A. Cobb\\n&gt;  \"...and I won't raise taxes on the middle     University of Illinois\\n&gt;     class to pay for my programs.\"                 Champaign-Urbana\\n&gt;           -Bill Clinton 3rd Debate             cobb@alexia.lis.uiuc.edu\\n&gt;                                               \\n&gt; Nobody can explain everything to anybody.  G.K.Chesterton\\n-- \\n\\n\\nbest regards,\\n\\n--Adam\\n\\n********************************************************************************\\n* Adam John Cooper\\t\\t\"Verily, often have I laughed at the weaklings *\\n* (612) 696-7521\\t\\t   who thought themselves good simply because  *\\n* acooper@macalstr.edu\\t\\t\\t\\tthey had no claws.\"\\t       *\\n********************************************************************************\\n</td>\n",
       "      <td>alt.atheism</td>\n",
       "    </tr>\n",
       "    <tr>\n",
       "      <th>1</th>\n",
       "      <td>154</td>\n",
       "      <td>From: frank@D012S658.uucp (Frank O'Dwyer)\\nSubject: Re: Societal basis for morality\\nOrganization: Siemens-Nixdorf AG\\nLines: 49\\nNNTP-Posting-Host: d012s658.ap.mchp.sni.de\\n\\nIn article &lt;1993Apr20.004119.6119@cnsvax.uwec.edu&gt; nyeda@cnsvax.uwec.edu (David Nye) writes:\\n\\nYou asked me to look over here, but I was on my way back anyway :-)\\n\\n#[reply to cobb@alexia.lis.uiuc.edu (Mike Cobb)]\\n# \\n#&gt;If morals come from what is societally accepted, why follow that? What\\n#&gt;right do we have to expect others to follow our notion of societally\\n#&gt;mandated morality?  Pardon the extremism, but couldn't I murder your\\n#&gt;\"brother\" and say that I was exercising my rights as I saw them, was\\n#&gt;doing what felt good, didn't want anyone forcing their morality on me,\\n#&gt;or I don't follow your \"morality\" ?\\n# \\n#I believe that morality is subjective.  Each person is entitled to his\\n#own moral attitudes.  Mine are not a priori more correct than someone\\n#elses.  This does not mean however that I must judge another on the\\n#basis of his rather than my moral standards.  While he is entitled to\\n#believe what his own moral sense tells him, the rest of society is\\n#entitled to pass laws spelling out punishments for behavior that is\\n#offensive to the majority.\\n\\nWhy?  Your last statement.  Why?  By which authority?  \\n\\n#Most criminals do not see their behavior as moral.  The may realize that\\n#it is immoral and not care.  They are thus not following their own moral\\n#system but being immoral.  For someone to lay claim to an alternative\\n#moral system, he must be sincere in his belief in it and it must be\\n#internally consistent.  \\n\\nWhy?  Your last statement.  Why are these things necessary?  \\n\\nAnd believe me, a belief in terrorism can be both sincere and frighteningly\\nconsistent.\\n\\n#Some sociopaths lack an innate moral sense and\\n#thus may be incapable of behaving morally.  While someone like Hitler\\n#may have believed that his actions were moral, we may judge him immoral\\n#by our standards.  Holding that morality is subjective does not mean\\n#that we must excuse the murderer.\\n\\nTrouble is, this would sound just fine coming from someone like Hitler, too.\\n(I do *not* mean any comparison or offence, David.)   Try substituting \\nthe social minority of your choice for 'sociopath', 'Hitler',  and\\n'murderer'.  No logical difference.  Someone like you, vs. someone like\\nHitler. Zero sum.  \\n\\n-- \\nFrank O'Dwyer                                  'I'm not hatching That'\\nodwyer@sse.ie                                  from \"Hens\",  by Evelyn Conlon\\n</td>\n",
       "      <td>alt.atheism</td>\n",
       "    </tr>\n",
       "    <tr>\n",
       "      <th>2</th>\n",
       "      <td>217</td>\n",
       "      <td>From: conor@owlnet.rice.edu (Conor Frederick Prischmann)\\nSubject: Re: Genocide is Caused by Theism : Evidence?\\nOrganization: Rice University\\nLines: 23\\n\\nIn article &lt;C60A0s.DvI@mailer.cc.fsu.edu&gt; dekorte@dirac.scri.fsu.edu (Stephen L. DeKorte) writes:\\n&gt;\\n&gt;I saw a 3 hour show on PBS the other day about the history of the\\n&gt;Jews. Appearently, the Cursades(a religious war agianst the muslilams\\n&gt;in 'the holy land') sparked the widespread persecution of muslilams \\n&gt;and jews in europe. Among the supporters of the persiecution, were none \\n&gt;other than Martin Luther, and the Vatican.\\n&gt;\\n&gt;Later, Hitler would use Luthers writings to justify his own treatment\\n&gt;of the jews.\\n&gt;&gt; Genocide is Caused by Theism : Evidence?\\n\\nHeck, I remember reading a quote of Luther as something like: \"Jews should\\nbe shot like deer.\"  And of course much Catholic doctrine for centuries was \\nextremely anti-Semitic.\\n\\n\\n\\n-- \\n\"Are you so sure that your truth and your justice are worth more than the\\ntruths and justices of other centuries?\" - Simone de Beauvoir\\n\"Where is there a certainty that rises above all doubt and withstands all\\ncritique?\" - Karl Jaspers          Rice University, Will Rice College '96\\n</td>\n",
       "      <td>alt.atheism</td>\n",
       "    </tr>\n",
       "    <tr>\n",
       "      <th>3</th>\n",
       "      <td>382</td>\n",
       "      <td>From: jhpark@cs.utexas.edu (Jihun Park)\\nSubject: POVray : tga -&gt; rle\\nOrganization: CS Dept, University of Texas at Austin\\nLines: 25\\nNNTP-Posting-Host: pageboy.cs.utexas.edu\\n\\nHello,\\nI have some problem in converting tga file(generated by POVray) to\\nrle file. When I convert, I do not get any warning message. But\\nif I use xloadimage/getx11, something is wrong.\\n\\nError messages are,\\n% targatorle -o o.rle data.tga\\n% xloadimage o.rle\\no.rle is a 0x0 24 bit RLE image with no map (will dither to 8 bits), with gamma of 1.00\\n  Dithering image...done\\n  Building XImage...done\\nxloadimage: X Error: BadValue (integer parameter out of range for operation) on 0x0\\nxloadimage: X Error: BadWindow (invalid Window parameter) on 0xb00003\\n......\\n\\nI know that I need to install ppmtorle and tgatoppm, but I do not spend\\ntime to install them. Even I do not want to generate .rgb from POVray\\nand then convert them to rle, if possible.(.rgb to rle works, but\\nit will mess up my directory with so many files, and it needs 2 more\\nsteps to finally convert to rle file. say cat | rawtorle | rleflip )\\nDoes any body out there have same experience/problems ?\\n\\nThanks in advance,\\n---\\nJ. Park\\n</td>\n",
       "      <td>comp.graphics</td>\n",
       "    </tr>\n",
       "    <tr>\n",
       "      <th>4</th>\n",
       "      <td>547</td>\n",
       "      <td>From: jdryburn@smt_6.b21.ingr.com (Joe Ryburn)\\nSubject: Software Development Libs for Old TARGA-16 Boards\\nOrganization: Intergraph\\nLines: 17\\n\\nI am revamping some computer-aided visual inspection systems which\\nuse the old AT&amp;T Targa-16 Board Set (2 cards) to display images from\\na color CCD camera to a color monitor, providing the option to overlay\\ntext or a crosshair. No image capture or manipulation is performed, \\njust display. I would like to know if there is still a source for \\ndevelopment libraries which would allow me to embed commands in my\\nown software to enable the camera, draw crosshairs, print text, etc.\\nI'll be glad to pay if they are commercially available. E-Mail if\\npossible.\\n\\n-- \\n\\n\\n----------------------------------------------------------------\\nJoe Ryburn |  CIM Manager               | Intergraph Corporation\\n           |  Manufacturing Integration | Huntsville, AL 35894\\n----------------------------------------------------------------\\n</td>\n",
       "      <td>comp.graphics</td>\n",
       "    </tr>\n",
       "    <tr>\n",
       "      <th>5</th>\n",
       "      <td>847</td>\n",
       "      <td>From: cui@maccs.mcmaster.ca (Jun Cui)\\nSubject: How to respond to WM_LBUTTONDBLCLK?\\nKeywords: MS-Windows, SDK\\nNntp-Posting-Host: maccs.dcss.mcmaster.ca\\nOrganization: Department of Computer Science, McMaster University\\nDistribution: comp.windows.ms\\nLines: 23\\n\\nI'm using BC++'s ObjectWindows (3.1), trying to resond to the left button\\ndouble click message WM_LBUTTONDBLCLK in a combo box. My codes look like:\\n\\nclass MyComboBox : public TComboBox\\n{\\npublic:\\n\\tMyComboBox(PTWindowsObject AParent, int ResourceId, WORD ATextLen) :\\n\\t\\tTComboBox(AParent, ResourceId, ATextLen) {};\\n\\tvirtual void WMLButtonDblClk(RTMessage Msg) = [WM_FIRST + WM_LBUTTONDBLCLK];\\n};\\n\\nvoid MyComboBox::WMLButtonDblClk(RTMessage Msg)\\n{\\n\\t...\\t// responding to the message (selecting the item in the list box)\\n}\\n\\nAnything wrong with my program? Any help would be appreciated.\\n\\n-- jun\\nTo talk to the Lord with PS/2 through MS-Windows\\n\\n\\n\\n</td>\n",
       "      <td>comp.os.ms-windows.misc</td>\n",
       "    </tr>\n",
       "    <tr>\n",
       "      <th>6</th>\n",
       "      <td>788</td>\n",
       "      <td>From: les.tom@idcbbs.com (Les Tom) \\nSubject: Replacement for Program M\\nDistribution: world\\nOrganization: IDC BBS - Alameda, CA - 510-865-7115\\nReply-To: les.tom@idcbbs.com (Les Tom) \\nLines: 33\\n\\n           Maw Ying yuan wrote \u0019\\n .................................\\n...From: yuan@wiliki.eng.hawaii.edu (Maw Ying Yuan)\\n...Subject: Replacement for Program Manager and File Manager?\\n...Message-ID: &lt;C68G1G.JuJ@news.Hawaii.Edu&gt;\\n...Date: Thu, 29 Apr 1993 06:44:04 GMT\\n...\\n...replacements for Win3.1's Program Manager and File Manager?\\n...yuan@wiliki.eng.hawaii.edu :)\\n .................................\\n    Hi,\\n      I've been using Plannet Crafter's \"Plug-in\" for Program Manager.\\n      Its listed in most BBS'es as PLUGIN13.  Its an add-on which gives\\n      some needed features to Progman; such as the ability to better\\n      manage your groups, change your cursor and icons on the fly,\\n      constant status of RAM and resources, \"Quick-menu\" (a drop-down\\n      menu of DOS commands or app launcher), plus some other neat stuff.\\n      Used it, liked it, and even reg'd it &lt;G&gt;.\\n\\n      If you can't find it anywhere, let me know and I'll zip it up and\\n      mail it to you (shareware version, of course &lt;g&gt;...)\\n\\nAloha...\\n---\\n .. .es .. All hope abandon, ye who enter messages here.\\n---\\n . SLMR 2.1a . \\n                                                   \\n----\\n+---------------------------------------------------------------------------+\\n| IDC BBS    510-865-7115 (USR HST 14.4k)  510-814-8097 (USR DS v.32bis)    |\\n| Alameda, California  -   Home of KingMail, KingQWK and QWKMerge           |\\n+---------------------------------------------------------------------------+\\n</td>\n",
       "      <td>comp.os.ms-windows.misc</td>\n",
       "    </tr>\n",
       "    <tr>\n",
       "      <th>7</th>\n",
       "      <td>1007</td>\n",
       "      <td>From: gel@binkley.cs.mcgill.ca (Gilles KHOUZAM)\\nSubject: Re: MAC DISKS IN WINDOWS?\\nLines: 6\\nNntp-Posting-Host: binkley.cs.mcgill.ca\\nOrganization: SOCS - Mcgill University, Montreal, Canada\\nLines: 6\\n\\n&gt;Macsee.zip on ftp.cica.indiana.edu is supposed to read and write Mac disks.  \\n&gt;I've never tried it, though.  Good luck\\n\\nI just tried it, but I can't say that it works, 'cause it doesn't read 800K\\ndisks, it only reads 1.44Mb. If there a program that does read 800K disks,\\nplease let me know.\\n</td>\n",
       "      <td>comp.os.ms-windows.misc</td>\n",
       "    </tr>\n",
       "    <tr>\n",
       "      <th>8</th>\n",
       "      <td>975</td>\n",
       "      <td>From: cs_e373@king.ac.uk (Matthew Simpkin)\\nSubject: Re: Adding Icons to Progman.exe\\nOrganization: Kingston University, Kingston-upon-Thames\\nLines: 22\\nNNTP-Posting-Host: ceres.kingston.ac.uk\\nX-Newsreader: TIN [version 1.1 PL8]\\n\\nFlorian Piekert (floppy@s-link.escape.de) wrote:\\n\\n: 09.05.93, 14:48\\n\\n: Hi out there !\\n\\n: Is there anybody who can write me how to add icons to the iconlist (which\\n: is build-into) of Progman.exe ?\\n\\n: I'm grateful for every clue !\\n\\n: Thanx and have a nice day !\\n\\nOne way is to use a program called Iconmaster. It's shareware and If you can't\\nget it mail me, and I'll post it to you.\\n\\n\\n--\\n&gt;&gt;&gt;&gt;&gt;&gt;&gt;&gt;&gt;&gt;&gt;&gt;&gt;&gt;&gt;&gt;&gt;&gt;&gt;&gt;&gt;&gt;&gt;&gt;&gt;&gt;&gt;&gt;&gt;&gt;&gt;&gt;&gt;&gt;&gt;&gt;&gt;&gt;&gt;&gt;&gt;&gt;&gt;&gt;&gt;&gt;&gt;&gt;&gt;&gt;&gt;&gt;&gt;&gt;&gt;&gt;&gt;&gt;&gt;&gt;&gt;&gt;&gt;&gt;&gt;&gt;&gt;&gt;&gt;&gt;&gt;&gt;&gt;&gt;&gt;&gt;&gt;&gt;&gt;\\n| Matthew Simpkin\\t | Kingston University  | \"A Primitive Race, You too  |\\n| cs_e373@kingston.ac.uk |  Computer Science    |   shall be asimilated ...\"  |\\n&lt;&lt;&lt;&lt;&lt;&lt;&lt;&lt;&lt;&lt;&lt;&lt;&lt;&lt;&lt;&lt;&lt;&lt;&lt;&lt;&lt;&lt;&lt;&lt;&lt;&lt;&lt;&lt;&lt;&lt;&lt;&lt;&lt;&lt;&lt;&lt;&lt;&lt;&lt;&lt;&lt;&lt;&lt;&lt;&lt;&lt;&lt;&lt;&lt;&lt;&lt;&lt;&lt;&lt;&lt;&lt;&lt;&lt;&lt;&lt;&lt;&lt;&lt;&lt;&lt;&lt;&lt;&lt;&lt;&lt;&lt;&lt;&lt;&lt;&lt;&lt;&lt;&lt;&lt;\\n</td>\n",
       "      <td>comp.os.ms-windows.misc</td>\n",
       "    </tr>\n",
       "    <tr>\n",
       "      <th>9</th>\n",
       "      <td>943</td>\n",
       "      <td>From: wiseb@colossus.cs.rpi.edu (Bowden Wise)\\nSubject: Displaying stream output in a Window\\nOrganization: Rensselaer Polytechnic Institute Computer Science, Troy NY\\nLines: 11\\nDistribution: comp\\nNNTP-Posting-Host: colossus.cs.rpi.edu\\n\\nI am using OWL and want to display the output from a stream in a popup\\nwindow.  Is there a way to perhaps redirect cout to a window?   Or\\nalternatively set up a separate stream that supports output and be\\nable to display the stream output in an TEdit control?\\n\\nAnyone ever done something like this?\\n--\\n--------------------------------------------------------------------\\n- Bowden Wise\\n  Computer Science Dept, Rensselaer Polytechnic Inst, Troy, NY 12180\\n  internet: wiseb@cs.rpi.edu\\n</td>\n",
       "      <td>comp.os.ms-windows.misc</td>\n",
       "    </tr>\n",
       "  </tbody>\n",
       "</table>\n",
       "</div>"
      ],
      "text/plain": [
       "   doc_id  \\\n",
       "0  58       \n",
       "1  154      \n",
       "2  217      \n",
       "3  382      \n",
       "4  547      \n",
       "5  847      \n",
       "6  788      \n",
       "7  1007     \n",
       "8  975      \n",
       "9  943      \n",
       "\n",
       "                                                                                                                                                                                                                                                                                                                                                                                                                                                                                                                                                                                                                                                                                                                                                                                                                                                                                                                                                                                                                                                                                                                                                                                                                                                                                                                                                                                                                                                                                                                                                                                                                                                                                                                                                                                                                                                                                                                                                                                                                                                                                                                                                                                                                                                                                                                                                                                                                                                                                                                                                                                                                                                                                                                                                                                                                                                                                                                                                                                                                                                  contents  \\\n",
       "0  From: acooper@mac.cc.macalstr.edu (Turin Turambar, ME Department of Utter Misery)\\nSubject: Re: Societally acceptable behavior\\nOrganization: Macalester College\\nLines: 55\\n\\nIn article <C5sA29.14s@news.cso.uiuc.edu>, cobb@alexia.lis.uiuc.edu (Mike Cobb) writes:\\n> I guess I'm delving into a religious language area.  What exactly is morality \\n> or morals?  \\n\\nI hope there is not one- with a subject like this you just have a spiral.  What\\nwould then be a morality of a morality of morals.  Labels don't make arguments. \\nOne really needs a solid measuring stick by which most actions can be\\ninterpreted, even though this would hardly seem moral.  For example \"The best\\nthing for me is to ensure that I will eat and drink enough.  Hence all actions\\nmust be weighed against this one statement.\"  whatever helps this goal is\\n\"moral\", whatever does not is \"immoral\"\\n\\nOf course this leads such a blank space: there are so many different ways to\\nfulfill a goal, one would need a \"hyper-morality\" to apply to just the methods.\\n\\n>I never thought of eating meat to be moral or immoral, but I think\\n> it could be.  How do we differentiate between not doing something because it is\\n> a personal choice or preference and not doing something because we see it as \\n> immoral?  Do we fall to what the basis of these morals are?\\n\\nSeems to me we only consider something moral or immoral if we stop to think\\nabout it long enough  :)  On the other hand, maybe it is our first gut\\nreaction...  Which?  Who knows: perhaps here we have a way to discriminate\\nmorals.  I don't instinctively thing vegetarianism is right (the same way I\\ninstinctively feel torture is wrong), but if I thought about it long enough and\\nlistened to the arguments, I could perhaps reason that it was wrong (is that\\npossible!?  :) )  See the difference?\\n\\n> \\n> Also, consensus positions fall to a might makes right.  Or, as you brought out,\\n> if whatever is right is what is societally mandated then whoever is in control\\n> at the time makes what is right\\n> \\n> MC\\n> MAC\\n> --\\n> ****************************************************************\\n>                                                     Michael A. Cobb\\n>  \"...and I won't raise taxes on the middle     University of Illinois\\n>     class to pay for my programs.\"                 Champaign-Urbana\\n>           -Bill Clinton 3rd Debate             cobb@alexia.lis.uiuc.edu\\n>                                               \\n> Nobody can explain everything to anybody.  G.K.Chesterton\\n-- \\n\\n\\nbest regards,\\n\\n--Adam\\n\\n********************************************************************************\\n* Adam John Cooper\\t\\t\"Verily, often have I laughed at the weaklings *\\n* (612) 696-7521\\t\\t   who thought themselves good simply because  *\\n* acooper@macalstr.edu\\t\\t\\t\\tthey had no claws.\"\\t       *\\n********************************************************************************\\n   \n",
       "1  From: frank@D012S658.uucp (Frank O'Dwyer)\\nSubject: Re: Societal basis for morality\\nOrganization: Siemens-Nixdorf AG\\nLines: 49\\nNNTP-Posting-Host: d012s658.ap.mchp.sni.de\\n\\nIn article <1993Apr20.004119.6119@cnsvax.uwec.edu> nyeda@cnsvax.uwec.edu (David Nye) writes:\\n\\nYou asked me to look over here, but I was on my way back anyway :-)\\n\\n#[reply to cobb@alexia.lis.uiuc.edu (Mike Cobb)]\\n# \\n#>If morals come from what is societally accepted, why follow that? What\\n#>right do we have to expect others to follow our notion of societally\\n#>mandated morality?  Pardon the extremism, but couldn't I murder your\\n#>\"brother\" and say that I was exercising my rights as I saw them, was\\n#>doing what felt good, didn't want anyone forcing their morality on me,\\n#>or I don't follow your \"morality\" ?\\n# \\n#I believe that morality is subjective.  Each person is entitled to his\\n#own moral attitudes.  Mine are not a priori more correct than someone\\n#elses.  This does not mean however that I must judge another on the\\n#basis of his rather than my moral standards.  While he is entitled to\\n#believe what his own moral sense tells him, the rest of society is\\n#entitled to pass laws spelling out punishments for behavior that is\\n#offensive to the majority.\\n\\nWhy?  Your last statement.  Why?  By which authority?  \\n\\n#Most criminals do not see their behavior as moral.  The may realize that\\n#it is immoral and not care.  They are thus not following their own moral\\n#system but being immoral.  For someone to lay claim to an alternative\\n#moral system, he must be sincere in his belief in it and it must be\\n#internally consistent.  \\n\\nWhy?  Your last statement.  Why are these things necessary?  \\n\\nAnd believe me, a belief in terrorism can be both sincere and frighteningly\\nconsistent.\\n\\n#Some sociopaths lack an innate moral sense and\\n#thus may be incapable of behaving morally.  While someone like Hitler\\n#may have believed that his actions were moral, we may judge him immoral\\n#by our standards.  Holding that morality is subjective does not mean\\n#that we must excuse the murderer.\\n\\nTrouble is, this would sound just fine coming from someone like Hitler, too.\\n(I do *not* mean any comparison or offence, David.)   Try substituting \\nthe social minority of your choice for 'sociopath', 'Hitler',  and\\n'murderer'.  No logical difference.  Someone like you, vs. someone like\\nHitler. Zero sum.  \\n\\n-- \\nFrank O'Dwyer                                  'I'm not hatching That'\\nodwyer@sse.ie                                  from \"Hens\",  by Evelyn Conlon\\n                                                                                                                                                                                                                                                                                                                                                                             \n",
       "2  From: conor@owlnet.rice.edu (Conor Frederick Prischmann)\\nSubject: Re: Genocide is Caused by Theism : Evidence?\\nOrganization: Rice University\\nLines: 23\\n\\nIn article <C60A0s.DvI@mailer.cc.fsu.edu> dekorte@dirac.scri.fsu.edu (Stephen L. DeKorte) writes:\\n>\\n>I saw a 3 hour show on PBS the other day about the history of the\\n>Jews. Appearently, the Cursades(a religious war agianst the muslilams\\n>in 'the holy land') sparked the widespread persecution of muslilams \\n>and jews in europe. Among the supporters of the persiecution, were none \\n>other than Martin Luther, and the Vatican.\\n>\\n>Later, Hitler would use Luthers writings to justify his own treatment\\n>of the jews.\\n>> Genocide is Caused by Theism : Evidence?\\n\\nHeck, I remember reading a quote of Luther as something like: \"Jews should\\nbe shot like deer.\"  And of course much Catholic doctrine for centuries was \\nextremely anti-Semitic.\\n\\n\\n\\n-- \\n\"Are you so sure that your truth and your justice are worth more than the\\ntruths and justices of other centuries?\" - Simone de Beauvoir\\n\"Where is there a certainty that rises above all doubt and withstands all\\ncritique?\" - Karl Jaspers          Rice University, Will Rice College '96\\n                                                                                                                                                                                                                                                                                                                                                                                                                                                                                                                                                                                                                                                                                                                                                                                                                                                                                                                                                                                                                                                                                                                                                                                                                                                                                                                                                                                                                                                                                                                                                                                                                                                                                                                                                                                                     \n",
       "3  From: jhpark@cs.utexas.edu (Jihun Park)\\nSubject: POVray : tga -> rle\\nOrganization: CS Dept, University of Texas at Austin\\nLines: 25\\nNNTP-Posting-Host: pageboy.cs.utexas.edu\\n\\nHello,\\nI have some problem in converting tga file(generated by POVray) to\\nrle file. When I convert, I do not get any warning message. But\\nif I use xloadimage/getx11, something is wrong.\\n\\nError messages are,\\n% targatorle -o o.rle data.tga\\n% xloadimage o.rle\\no.rle is a 0x0 24 bit RLE image with no map (will dither to 8 bits), with gamma of 1.00\\n  Dithering image...done\\n  Building XImage...done\\nxloadimage: X Error: BadValue (integer parameter out of range for operation) on 0x0\\nxloadimage: X Error: BadWindow (invalid Window parameter) on 0xb00003\\n......\\n\\nI know that I need to install ppmtorle and tgatoppm, but I do not spend\\ntime to install them. Even I do not want to generate .rgb from POVray\\nand then convert them to rle, if possible.(.rgb to rle works, but\\nit will mess up my directory with so many files, and it needs 2 more\\nsteps to finally convert to rle file. say cat | rawtorle | rleflip )\\nDoes any body out there have same experience/problems ?\\n\\nThanks in advance,\\n---\\nJ. Park\\n                                                                                                                                                                                                                                                                                                                                                                                                                                                                                                                                                                                                                                                                                                                                                                                                                                                                                                                                                                                                                                                                                                                                                                                                                                                                                                                                                                                                                                                                                                                                                                                                                                                                                                                                                                                                              \n",
       "4  From: jdryburn@smt_6.b21.ingr.com (Joe Ryburn)\\nSubject: Software Development Libs for Old TARGA-16 Boards\\nOrganization: Intergraph\\nLines: 17\\n\\nI am revamping some computer-aided visual inspection systems which\\nuse the old AT&T Targa-16 Board Set (2 cards) to display images from\\na color CCD camera to a color monitor, providing the option to overlay\\ntext or a crosshair. No image capture or manipulation is performed, \\njust display. I would like to know if there is still a source for \\ndevelopment libraries which would allow me to embed commands in my\\nown software to enable the camera, draw crosshairs, print text, etc.\\nI'll be glad to pay if they are commercially available. E-Mail if\\npossible.\\n\\n-- \\n\\n\\n----------------------------------------------------------------\\nJoe Ryburn |  CIM Manager               | Intergraph Corporation\\n           |  Manufacturing Integration | Huntsville, AL 35894\\n----------------------------------------------------------------\\n                                                                                                                                                                                                                                                                                                                                                                                                                                                                                                                                                                                                                                                                                                                                                                                                                                                                                                                                                                                                                                                                                                                                                                                                                                                                                                                                                                                                                                                                                                                                                                                                                                                                                                                                                                                                                                                                                                                                                                                                                                  \n",
       "5  From: cui@maccs.mcmaster.ca (Jun Cui)\\nSubject: How to respond to WM_LBUTTONDBLCLK?\\nKeywords: MS-Windows, SDK\\nNntp-Posting-Host: maccs.dcss.mcmaster.ca\\nOrganization: Department of Computer Science, McMaster University\\nDistribution: comp.windows.ms\\nLines: 23\\n\\nI'm using BC++'s ObjectWindows (3.1), trying to resond to the left button\\ndouble click message WM_LBUTTONDBLCLK in a combo box. My codes look like:\\n\\nclass MyComboBox : public TComboBox\\n{\\npublic:\\n\\tMyComboBox(PTWindowsObject AParent, int ResourceId, WORD ATextLen) :\\n\\t\\tTComboBox(AParent, ResourceId, ATextLen) {};\\n\\tvirtual void WMLButtonDblClk(RTMessage Msg) = [WM_FIRST + WM_LBUTTONDBLCLK];\\n};\\n\\nvoid MyComboBox::WMLButtonDblClk(RTMessage Msg)\\n{\\n\\t...\\t// responding to the message (selecting the item in the list box)\\n}\\n\\nAnything wrong with my program? Any help would be appreciated.\\n\\n-- jun\\nTo talk to the Lord with PS/2 through MS-Windows\\n\\n\\n\\n                                                                                                                                                                                                                                                                                                                                                                                                                                                                                                                                                                                                                                                                                                                                                                                                                                                                                                                                                                                                                                                                                                                                                                                                                                                                                                                                                                                                                                                                                                                                                                                                                                                                                                                                                                                                                                                                                                                                                                                                                                                                                  \n",
       "6  From: les.tom@idcbbs.com (Les Tom) \\nSubject: Replacement for Program M\\nDistribution: world\\nOrganization: IDC BBS - Alameda, CA - 510-865-7115\\nReply-To: les.tom@idcbbs.com (Les Tom) \\nLines: 33\\n\\n           Maw Ying yuan wrote \u0019\\n .................................\\n...From: yuan@wiliki.eng.hawaii.edu (Maw Ying Yuan)\\n...Subject: Replacement for Program Manager and File Manager?\\n...Message-ID: <C68G1G.JuJ@news.Hawaii.Edu>\\n...Date: Thu, 29 Apr 1993 06:44:04 GMT\\n...\\n...replacements for Win3.1's Program Manager and File Manager?\\n...yuan@wiliki.eng.hawaii.edu :)\\n .................................\\n    Hi,\\n      I've been using Plannet Crafter's \"Plug-in\" for Program Manager.\\n      Its listed in most BBS'es as PLUGIN13.  Its an add-on which gives\\n      some needed features to Progman; such as the ability to better\\n      manage your groups, change your cursor and icons on the fly,\\n      constant status of RAM and resources, \"Quick-menu\" (a drop-down\\n      menu of DOS commands or app launcher), plus some other neat stuff.\\n      Used it, liked it, and even reg'd it <G>.\\n\\n      If you can't find it anywhere, let me know and I'll zip it up and\\n      mail it to you (shareware version, of course <g>...)\\n\\nAloha...\\n---\\n .. .es .. All hope abandon, ye who enter messages here.\\n---\\n . SLMR 2.1a . \\n                                                   \\n----\\n+---------------------------------------------------------------------------+\\n| IDC BBS    510-865-7115 (USR HST 14.4k)  510-814-8097 (USR DS v.32bis)    |\\n| Alameda, California  -   Home of KingMail, KingQWK and QWKMerge           |\\n+---------------------------------------------------------------------------+\\n                                                                                                                                                                                                                                                                                                                                                                                                                                                                                                                                                                                                                                                                                                                                                                                                                                                                                                                                                                                                                                                                                                                                                                                                                                                                                   \n",
       "7  From: gel@binkley.cs.mcgill.ca (Gilles KHOUZAM)\\nSubject: Re: MAC DISKS IN WINDOWS?\\nLines: 6\\nNntp-Posting-Host: binkley.cs.mcgill.ca\\nOrganization: SOCS - Mcgill University, Montreal, Canada\\nLines: 6\\n\\n>Macsee.zip on ftp.cica.indiana.edu is supposed to read and write Mac disks.  \\n>I've never tried it, though.  Good luck\\n\\nI just tried it, but I can't say that it works, 'cause it doesn't read 800K\\ndisks, it only reads 1.44Mb. If there a program that does read 800K disks,\\nplease let me know.\\n                                                                                                                                                                                                                                                                                                                                                                                                                                                                                                                                                                                                                                                                                                                                                                                                                                                                                                                                                                                                                                                                                                                                                                                                                                                                                                                                                                                                                                                                                                                                                                                                                                                                                                                                                                                                                                                                                                                                                                                                                                                                                                                                                                                                                                                                                                                                                                                                                                                                                                                                  \n",
       "8  From: cs_e373@king.ac.uk (Matthew Simpkin)\\nSubject: Re: Adding Icons to Progman.exe\\nOrganization: Kingston University, Kingston-upon-Thames\\nLines: 22\\nNNTP-Posting-Host: ceres.kingston.ac.uk\\nX-Newsreader: TIN [version 1.1 PL8]\\n\\nFlorian Piekert (floppy@s-link.escape.de) wrote:\\n\\n: 09.05.93, 14:48\\n\\n: Hi out there !\\n\\n: Is there anybody who can write me how to add icons to the iconlist (which\\n: is build-into) of Progman.exe ?\\n\\n: I'm grateful for every clue !\\n\\n: Thanx and have a nice day !\\n\\nOne way is to use a program called Iconmaster. It's shareware and If you can't\\nget it mail me, and I'll post it to you.\\n\\n\\n--\\n>>>>>>>>>>>>>>>>>>>>>>>>>>>>>>>>>>>>>>>>>>>>>>>>>>>>>>>>>>>>>>>>>>>>>>>>>>>>>>>\\n| Matthew Simpkin\\t | Kingston University  | \"A Primitive Race, You too  |\\n| cs_e373@kingston.ac.uk |  Computer Science    |   shall be asimilated ...\"  |\\n<<<<<<<<<<<<<<<<<<<<<<<<<<<<<<<<<<<<<<<<<<<<<<<<<<<<<<<<<<<<<<<<<<<<<<<<<<<<<<<\\n                                                                                                                                                                                                                                                                                                                                                                                                                                                                                                                                                                                                                                                                                                                                                                                                                                                                                                                                                                                                                                                                                                                                                                                                                                                                                                                                                                                                                                                                                                                                                                                                                                                                                                                                                                                                                                                                                                                                                                                                                                                            \n",
       "9  From: wiseb@colossus.cs.rpi.edu (Bowden Wise)\\nSubject: Displaying stream output in a Window\\nOrganization: Rensselaer Polytechnic Institute Computer Science, Troy NY\\nLines: 11\\nDistribution: comp\\nNNTP-Posting-Host: colossus.cs.rpi.edu\\n\\nI am using OWL and want to display the output from a stream in a popup\\nwindow.  Is there a way to perhaps redirect cout to a window?   Or\\nalternatively set up a separate stream that supports output and be\\nable to display the stream output in an TEdit control?\\n\\nAnyone ever done something like this?\\n--\\n--------------------------------------------------------------------\\n- Bowden Wise\\n  Computer Science Dept, Rensselaer Polytechnic Inst, Troy, NY 12180\\n  internet: wiseb@cs.rpi.edu\\n                                                                                                                                                                                                                                                                                                                                                                                                                                                                                                                                                                                                                                                                                                                                                                                                                                                                                                                                                                                                                                                                                                                                                                                                                                                                                                                                                                                                                                                                                                                                                                                                                                                                                                                                                                                                                                                                                                                                                                                                                                                                                                                                                                                                                                                                                           \n",
       "\n",
       "                     label  \n",
       "0  alt.atheism              \n",
       "1  alt.atheism              \n",
       "2  alt.atheism              \n",
       "3  comp.graphics            \n",
       "4  comp.graphics            \n",
       "5  comp.os.ms-windows.misc  \n",
       "6  comp.os.ms-windows.misc  \n",
       "7  comp.os.ms-windows.misc  \n",
       "8  comp.os.ms-windows.misc  \n",
       "9  comp.os.ms-windows.misc  "
      ]
     },
     "metadata": {},
     "output_type": "display_data"
    }
   ],
   "source": [
    "%%showsql\n",
    "select\n",
    "    *\n",
    "from\n",
    "    YOUR_SCHEMA.twenty_news_groups\n",
    "limit 10;"
   ]
  },
  {
   "cell_type": "markdown",
   "metadata": {},
   "source": [
    "## 3. Create document vectors using Paragraph Vectors by Quoc Le, Mikolov et. al (local version) "
   ]
  },
  {
   "cell_type": "code",
   "execution_count": 118,
   "metadata": {
    "collapsed": false
   },
   "outputs": [
    {
     "data": {
      "text/html": [
       "<div>\n",
       "<table border=\"1\" class=\"dataframe\">\n",
       "  <thead>\n",
       "    <tr style=\"text-align: right;\">\n",
       "      <th></th>\n",
       "      <th>doc_id</th>\n",
       "      <th>contents</th>\n",
       "      <th>label</th>\n",
       "    </tr>\n",
       "  </thead>\n",
       "  <tbody>\n",
       "    <tr>\n",
       "      <th>0</th>\n",
       "      <td>173</td>\n",
       "      <td>From: csfed@uxa.ecn.bgu.edu (Frank Doss)\\nSubject: Re: Science and theories\\nOrganization: Educational Computing Network\\nLines: 27\\nNNTP-Posting-Host: uxa.ecn.bgu.edu\\n\\nIn article &lt;C5u7Bq.J43@news.cso.uiuc.edu&gt; cobb@alexia.lis.uiuc.edu (Mike Cobb) writes:\\n\\n&gt;The examples he gave were quarks and continental plates.  Are there \\n\\nSounds like more of the same.  Gods were used to describe almost\\neverything in the past.  As we come to understand the underpinnings of\\nmore and more, the less we credit to a god.  Now, the not-so-well\\nunderstood elements (at least by the author) includes quarks and tectonic\\ndrift.  I guess that's better than describing the perceived patterns of\\nstars in the sky as heroes being immortalized by the gods.\\n\\nKinda sounds like old-earth creation--It seems that life did, indeed, evolve\\nfrom a common ancestor.  What caused that initial common ancestor?\\n\\nAre we going to hear another debate on causeless events? ;-)\\n\\n&gt;explanations of science or parts of theories that are not measurable in and of\\n&gt;themselves, or can everything be quantified, measured, tested, etc.?  \\n&gt;\\n&gt;MAC\\n&gt;                                                    Michael A. Cobb\\n\\n-- \\nFrank Doss \\nThe above stated words are my opinions and do not reflect the opinions,\\nattitudes, or policies of my employer or any affilliated organizations.\\n\\n</td>\n",
       "      <td>alt.atheism</td>\n",
       "    </tr>\n",
       "    <tr>\n",
       "      <th>1</th>\n",
       "      <td>78</td>\n",
       "      <td>From: livesey@solntze.wpd.sgi.com (Jon Livesey)\\nSubject: Re: A Little Too Satanic\\nOrganization: sgi\\nLines: 56\\nDistribution: world\\nNNTP-Posting-Host: solntze.wpd.sgi.com\\n\\nIn article &lt;66615@mimsy.umd.edu&gt;, mangoe@cs.umd.edu (Charley Wingate) writes:\\n|&gt; Jon Livesey writes:\\n|&gt; \\n|&gt; |&gt; What I said was that people took time to *copy* *the* *text* correctly.\\n|&gt; |&gt; Translations present completely different issues.\\n|&gt;\\n|&gt; \\n|&gt; &gt;So why do I read in the papers that the Qumram texts had \"different\\n|&gt; &gt;versions\" of some OT texts.   Did I misunderstand?\\n|&gt; \\n|&gt; Reading newspapers to learn about this kind of stuff is not the best idea in\\n|&gt; the world.  Newspaper reporters are notoriously ignorant on the subject of\\n|&gt; religion, and are prone to exaggeration in the interests of having a \"real\"\\n|&gt; story (that is, a bigger headline).\\n|&gt; \\n|&gt; Let's back up to 1935.  At this point, we have the Masoretic text, the\\n|&gt; various targums (translations/commentaries in aramaic, etc.), and the\\n|&gt; Septuagint, the ancient greek translation.  The Masoretic text is the\\n|&gt; standard Jewish text and essentially does not vary.  In some places it has\\n|&gt; obvious corruptions, all of which are copied faithfully from copy to copy.\\n|&gt; These passages in the past were interpreted by reference to the targums and\\n|&gt; to the Septuagint.\\n\\nSo when they took the time to *copy* *the* *text* correctly, that includes\\n\"obvious corruptions?\"\\n\\n|&gt; \\n|&gt; Now, the septuagint differs from the masoretic text in two particulars:\\n|&gt; first, it includes additional texts, and second, in some passages there are\\n|&gt; variant readings from the masoretic text (in addition to \"fixing\"/predating\\n|&gt; the various corrupted passages).  It must be emphasized that, to the best of\\n|&gt; my knowledge, these variations are only signifcant to bible scholars, and\\n|&gt; have little theological import.\\n\\nSo when they took the time to *copy* *the* *text* correctly, that does not\\nexclude \"variant readings from the masoretic text\" which are \"of little \\ntheological import\"\\n\\n|&gt; \\n|&gt; The dead sea scroll materials add to this an ancient *copy* of almost all of\\n|&gt; Isaiah and fragments of various sizes of almost all other OT books.  There\\n|&gt; is also an abundance of other material, but as far as I know, there is no\\n|&gt; sign there of any hebrew antecdent to the apocrypha (the extra texts in the\\n|&gt; septuagint).  As far as analysis has proceeded, there are also variations\\n|&gt; between the DSS texts and the masoretic versions.  These tend to reflect the\\n|&gt; septuagint, where the latter isn't obviously in error.  Again, though, the\\n|&gt; differences (thus far) are not significant theologically.  There is this big\\n|&gt; expectation that there are great theological surprises lurking in the\\n|&gt; material, but so far this hasn't happened.\\n|&gt; \\n|&gt; The DSS *are* important because there is almost no textual tradition in the\\n|&gt; OT, unlike for the NT.\\n\\nHey, you're the expert.\\n\\njon.\\n</td>\n",
       "      <td>alt.atheism</td>\n",
       "    </tr>\n",
       "    <tr>\n",
       "      <th>2</th>\n",
       "      <td>238</td>\n",
       "      <td>From: decay@cbnewsj.cb.att.com (dean.kaflowitz)\\nSubject: Re: YOU WILL ALL GO TO HELL!!!\\nOrganization: AT&amp;T\\nDistribution: na\\nLines: 28\\n\\nIn article &lt;healta.176.735768613@saturn.wwc.edu&gt;, healta@saturn.wwc.edu (Tammy R Healy) writes:\\n&gt; In article &lt;1993Apr25.020546.22426@mnemosyne.cs.du.edu&gt; kcochran@nyx.cs.du.edu (Keith \"Justified And Ancient\" Cochran) writes:\\n&gt; &gt;From: kcochran@nyx.cs.du.edu (Keith \"Justified And Ancient\" Cochran)\\n&gt; &gt;Subject: Re: YOU WILL ALL GO TO HELL!!!\\n&gt; &gt;Date: Sun, 25 Apr 93 02:05:46 GMT\\n&gt; &gt;In article &lt;8473@pharaoh.cyborg.bt.co.uk&gt; martin@pharaoh.cyborg.bt.co.uk (Martin Gorman) writes:\\n&gt; &gt;&gt;JSN104@psuvm.psu.edu writes:\\n&gt; &gt;&gt;\\n&gt; &gt;&gt;&gt;YOU BLASHEPHEMERS!!! YOU WILL ALL GO TO HELL FOR NOT BELIEVING IN GOD!!!!  BE\\n&gt; &gt;&gt;&gt;PREPARED FOR YOUR ETERNAL DAMNATION!!!\\n&gt; &gt;&gt;&gt;\\n&gt; &gt;&gt;Oh fuck off.\\n&gt; &gt;\\n&gt; &gt;Actually, I just think he's confused.  *I'm* going to hell because I'm Gay,\\n&gt; &gt;not becuase I don't believe in God.\\n&gt; &gt;\\n&gt; &gt;(I wonder if that means I can't come to Tammy &amp; Deans picnic?)\\n&gt; \\n&gt; Of course you can come.  I said \"ALL a.a posters are invited\" and I didn't \\n&gt; put a \"No homosexual\" clause.  Bring some munchies and join the party!!!\\n&gt; I can't imagine Dean objecting, either.\\n\\nKnowing Keith, I expect he'll bring the leather accessories.\\n\\nBetter oil it well.  Leather cracks when it dries.\\n\\nDean Kaflowitz\\n\\n</td>\n",
       "      <td>alt.atheism</td>\n",
       "    </tr>\n",
       "    <tr>\n",
       "      <th>3</th>\n",
       "      <td>329</td>\n",
       "      <td>From: dks@world.std.com (David K Shute)\\nSubject: Re: Rumours about 3DO ???\\nOrganization: The World Public Access UNIX, Brookline, MA\\nLines: 42\\n\\njohnm@spudge.lonestar.org (John Munsch) writes:\\n\\n&gt;In article &lt;loT1rAPNBh107h@viamar.UUCP&gt; rutgers!viamar!kmembry writes:\\n&gt;&gt;Read Issue #2 of Wired Magazine.  It has a long article on the \"hype\" of\\n&gt;&gt;3DO.  I've noticed that every article talks with the designers and how\\n&gt;&gt;\"great\" it is, but never show any pictures of the output (or at least\\n&gt;&gt;pictures that one can understand)\\n\\n&gt;Gamepro magazine published pictures a few months ago and Computer Chronicles\\n&gt;(a program that is syndicated to public tv stations around the nation) spent\\n&gt;several minutes on it when it was shown at CES.  It was very impressive what\\n&gt;it can do in real time.\\n\\n&gt;John Munsch\\n\\nThe April 1993 edition of MIX Magazine carries a story on 3DO which\\nincludes pictures of the unit, a schematic of what's inside and some\\nindication from the people at 3DO as to where they intend to go and in\\nwhat stages. (MIX is a trade rag aimed at the professional sound\\nengineering community.)\\n\\nThe schematic shows a central DMA Engine connecting and mediating between\\ntwo Graphics Animation processors (32 bit bus), a 32-bit RISC processor\\nwith math co-processor, Video Decomp module, a control port, an expansion\\nport (where 3DO hangs its double-fast CD player), 1Mb DRAM, an optional\\nvideo port (for editing video) and on the outbound side 1MB VRAM to Video\\nProcessor to TV chain parallel with a DSP to sound chain. \\n\\nThey promise Red Book CD-quality audio, full 30 fps video and a future\\nconnection path to your PC via a PC expansion card.\\n\\nI am not informed enough to have an opinion about the various means and\\nmethods discussed here. The article, written by Philip De Lancie, does\\ncover the other machines mentioned in this thread.  I come from the PC\\nTCP/IP world and see a tremendous potential for bringing connectedness to\\nthe educated consumer; 3DO seems to have the right business partners to\\nmake this happen. \\n\\nHope this helps.\\n\\nDavid Shute\\nEMAIL: dks@world.std.com\\n</td>\n",
       "      <td>comp.graphics</td>\n",
       "    </tr>\n",
       "    <tr>\n",
       "      <th>4</th>\n",
       "      <td>47</td>\n",
       "      <td>From: nyeda@cnsvax.uwec.edu (David Nye)\\nSubject: College atheists\\nOrganization: University of Wisconsin Eau Claire\\nLines: 10\\n\\nI read an article about a poll done of students at the Ivy League\\nschools in which it was reported that a third of the students\\nindentified themselves as atheists.  This is a lot higher than among the\\ngeneral population.  I wonder what the reasons for this discrepancy are?\\nIs it because they are more intelligent?  Younger?  Is this the wave of\\nthe future?\\n \\nDavid Nye (nyeda@cnsvax.uwec.edu).  Midelfort Clinic, Eau Claire WI\\nThis is patently absurd; but whoever wishes to become a philosopher\\nmust learn not to be frightened by absurdities. -- Bertrand Russell\\n</td>\n",
       "      <td>alt.atheism</td>\n",
       "    </tr>\n",
       "  </tbody>\n",
       "</table>\n",
       "</div>"
      ],
      "text/plain": [
       "   doc_id  \\\n",
       "0  173      \n",
       "1  78       \n",
       "2  238      \n",
       "3  329      \n",
       "4  47       \n",
       "\n",
       "                                                                                                                                                                                                                                                                                                                                                                                                                                                                                                                                                                                                                                                                                                                                                                                                                                                                                                                                                                                                                                                                                                                                                                                                                                                                                                                                                                                                                                                                                                                                                                                                                                                                                                                                                                                                                                                                                                                                                                                                                                                                                                                                                                                                                                                                                                                                                                                                                                                                                                                                                                                                                                                                                                                                                                                                                                                                                                                                                                                                                                                                         contents  \\\n",
       "0  From: csfed@uxa.ecn.bgu.edu (Frank Doss)\\nSubject: Re: Science and theories\\nOrganization: Educational Computing Network\\nLines: 27\\nNNTP-Posting-Host: uxa.ecn.bgu.edu\\n\\nIn article <C5u7Bq.J43@news.cso.uiuc.edu> cobb@alexia.lis.uiuc.edu (Mike Cobb) writes:\\n\\n>The examples he gave were quarks and continental plates.  Are there \\n\\nSounds like more of the same.  Gods were used to describe almost\\neverything in the past.  As we come to understand the underpinnings of\\nmore and more, the less we credit to a god.  Now, the not-so-well\\nunderstood elements (at least by the author) includes quarks and tectonic\\ndrift.  I guess that's better than describing the perceived patterns of\\nstars in the sky as heroes being immortalized by the gods.\\n\\nKinda sounds like old-earth creation--It seems that life did, indeed, evolve\\nfrom a common ancestor.  What caused that initial common ancestor?\\n\\nAre we going to hear another debate on causeless events? ;-)\\n\\n>explanations of science or parts of theories that are not measurable in and of\\n>themselves, or can everything be quantified, measured, tested, etc.?  \\n>\\n>MAC\\n>                                                    Michael A. Cobb\\n\\n-- \\nFrank Doss \\nThe above stated words are my opinions and do not reflect the opinions,\\nattitudes, or policies of my employer or any affilliated organizations.\\n\\n                                                                                                                                                                                                                                                                                                                                                                                                                                                                                                                                                                                                                                                                                                                                                                                                                                                                                                                                                                                                                                                                                                                                                                                                                                                                                                                                                                                                                                                                                                                                                                                                                                                               \n",
       "1  From: livesey@solntze.wpd.sgi.com (Jon Livesey)\\nSubject: Re: A Little Too Satanic\\nOrganization: sgi\\nLines: 56\\nDistribution: world\\nNNTP-Posting-Host: solntze.wpd.sgi.com\\n\\nIn article <66615@mimsy.umd.edu>, mangoe@cs.umd.edu (Charley Wingate) writes:\\n|> Jon Livesey writes:\\n|> \\n|> |> What I said was that people took time to *copy* *the* *text* correctly.\\n|> |> Translations present completely different issues.\\n|>\\n|> \\n|> >So why do I read in the papers that the Qumram texts had \"different\\n|> >versions\" of some OT texts.   Did I misunderstand?\\n|> \\n|> Reading newspapers to learn about this kind of stuff is not the best idea in\\n|> the world.  Newspaper reporters are notoriously ignorant on the subject of\\n|> religion, and are prone to exaggeration in the interests of having a \"real\"\\n|> story (that is, a bigger headline).\\n|> \\n|> Let's back up to 1935.  At this point, we have the Masoretic text, the\\n|> various targums (translations/commentaries in aramaic, etc.), and the\\n|> Septuagint, the ancient greek translation.  The Masoretic text is the\\n|> standard Jewish text and essentially does not vary.  In some places it has\\n|> obvious corruptions, all of which are copied faithfully from copy to copy.\\n|> These passages in the past were interpreted by reference to the targums and\\n|> to the Septuagint.\\n\\nSo when they took the time to *copy* *the* *text* correctly, that includes\\n\"obvious corruptions?\"\\n\\n|> \\n|> Now, the septuagint differs from the masoretic text in two particulars:\\n|> first, it includes additional texts, and second, in some passages there are\\n|> variant readings from the masoretic text (in addition to \"fixing\"/predating\\n|> the various corrupted passages).  It must be emphasized that, to the best of\\n|> my knowledge, these variations are only signifcant to bible scholars, and\\n|> have little theological import.\\n\\nSo when they took the time to *copy* *the* *text* correctly, that does not\\nexclude \"variant readings from the masoretic text\" which are \"of little \\ntheological import\"\\n\\n|> \\n|> The dead sea scroll materials add to this an ancient *copy* of almost all of\\n|> Isaiah and fragments of various sizes of almost all other OT books.  There\\n|> is also an abundance of other material, but as far as I know, there is no\\n|> sign there of any hebrew antecdent to the apocrypha (the extra texts in the\\n|> septuagint).  As far as analysis has proceeded, there are also variations\\n|> between the DSS texts and the masoretic versions.  These tend to reflect the\\n|> septuagint, where the latter isn't obviously in error.  Again, though, the\\n|> differences (thus far) are not significant theologically.  There is this big\\n|> expectation that there are great theological surprises lurking in the\\n|> material, but so far this hasn't happened.\\n|> \\n|> The DSS *are* important because there is almost no textual tradition in the\\n|> OT, unlike for the NT.\\n\\nHey, you're the expert.\\n\\njon.\\n   \n",
       "2  From: decay@cbnewsj.cb.att.com (dean.kaflowitz)\\nSubject: Re: YOU WILL ALL GO TO HELL!!!\\nOrganization: AT&T\\nDistribution: na\\nLines: 28\\n\\nIn article <healta.176.735768613@saturn.wwc.edu>, healta@saturn.wwc.edu (Tammy R Healy) writes:\\n> In article <1993Apr25.020546.22426@mnemosyne.cs.du.edu> kcochran@nyx.cs.du.edu (Keith \"Justified And Ancient\" Cochran) writes:\\n> >From: kcochran@nyx.cs.du.edu (Keith \"Justified And Ancient\" Cochran)\\n> >Subject: Re: YOU WILL ALL GO TO HELL!!!\\n> >Date: Sun, 25 Apr 93 02:05:46 GMT\\n> >In article <8473@pharaoh.cyborg.bt.co.uk> martin@pharaoh.cyborg.bt.co.uk (Martin Gorman) writes:\\n> >>JSN104@psuvm.psu.edu writes:\\n> >>\\n> >>>YOU BLASHEPHEMERS!!! YOU WILL ALL GO TO HELL FOR NOT BELIEVING IN GOD!!!!  BE\\n> >>>PREPARED FOR YOUR ETERNAL DAMNATION!!!\\n> >>>\\n> >>Oh fuck off.\\n> >\\n> >Actually, I just think he's confused.  *I'm* going to hell because I'm Gay,\\n> >not becuase I don't believe in God.\\n> >\\n> >(I wonder if that means I can't come to Tammy & Deans picnic?)\\n> \\n> Of course you can come.  I said \"ALL a.a posters are invited\" and I didn't \\n> put a \"No homosexual\" clause.  Bring some munchies and join the party!!!\\n> I can't imagine Dean objecting, either.\\n\\nKnowing Keith, I expect he'll bring the leather accessories.\\n\\nBetter oil it well.  Leather cracks when it dries.\\n\\nDean Kaflowitz\\n\\n                                                                                                                                                                                                                                                                                                                                                                                                                                                                                                                                                                                                                                                                                                                                                                                                                                                                                                                                                                                                                                                                                                                                                                                                                                                                                                                                                                                                                                                                                                                                                                                                                                                                      \n",
       "3  From: dks@world.std.com (David K Shute)\\nSubject: Re: Rumours about 3DO ???\\nOrganization: The World Public Access UNIX, Brookline, MA\\nLines: 42\\n\\njohnm@spudge.lonestar.org (John Munsch) writes:\\n\\n>In article <loT1rAPNBh107h@viamar.UUCP> rutgers!viamar!kmembry writes:\\n>>Read Issue #2 of Wired Magazine.  It has a long article on the \"hype\" of\\n>>3DO.  I've noticed that every article talks with the designers and how\\n>>\"great\" it is, but never show any pictures of the output (or at least\\n>>pictures that one can understand)\\n\\n>Gamepro magazine published pictures a few months ago and Computer Chronicles\\n>(a program that is syndicated to public tv stations around the nation) spent\\n>several minutes on it when it was shown at CES.  It was very impressive what\\n>it can do in real time.\\n\\n>John Munsch\\n\\nThe April 1993 edition of MIX Magazine carries a story on 3DO which\\nincludes pictures of the unit, a schematic of what's inside and some\\nindication from the people at 3DO as to where they intend to go and in\\nwhat stages. (MIX is a trade rag aimed at the professional sound\\nengineering community.)\\n\\nThe schematic shows a central DMA Engine connecting and mediating between\\ntwo Graphics Animation processors (32 bit bus), a 32-bit RISC processor\\nwith math co-processor, Video Decomp module, a control port, an expansion\\nport (where 3DO hangs its double-fast CD player), 1Mb DRAM, an optional\\nvideo port (for editing video) and on the outbound side 1MB VRAM to Video\\nProcessor to TV chain parallel with a DSP to sound chain. \\n\\nThey promise Red Book CD-quality audio, full 30 fps video and a future\\nconnection path to your PC via a PC expansion card.\\n\\nI am not informed enough to have an opinion about the various means and\\nmethods discussed here. The article, written by Philip De Lancie, does\\ncover the other machines mentioned in this thread.  I come from the PC\\nTCP/IP world and see a tremendous potential for bringing connectedness to\\nthe educated consumer; 3DO seems to have the right business partners to\\nmake this happen. \\n\\nHope this helps.\\n\\nDavid Shute\\nEMAIL: dks@world.std.com\\n                                                                                                                                                                                                                                                                                                                                                                                                                                                                                                                                                                                                                                                                                                                                                                                                                                                                   \n",
       "4  From: nyeda@cnsvax.uwec.edu (David Nye)\\nSubject: College atheists\\nOrganization: University of Wisconsin Eau Claire\\nLines: 10\\n\\nI read an article about a poll done of students at the Ivy League\\nschools in which it was reported that a third of the students\\nindentified themselves as atheists.  This is a lot higher than among the\\ngeneral population.  I wonder what the reasons for this discrepancy are?\\nIs it because they are more intelligent?  Younger?  Is this the wave of\\nthe future?\\n \\nDavid Nye (nyeda@cnsvax.uwec.edu).  Midelfort Clinic, Eau Claire WI\\nThis is patently absurd; but whoever wishes to become a philosopher\\nmust learn not to be frightened by absurdities. -- Bertrand Russell\\n                                                                                                                                                                                                                                                                                                                                                                                                                                                                                                                                                                                                                                                                                                                                                                                                                                                                                                                                                                                                                                                                                                                                                                                                                                                                                                                                                                                                                                                                                                                                                                                                                                                                                                                                                                                                                                                                                                                                                                                                                                                                                                                                                                                                                                                                                                                                                \n",
       "\n",
       "           label  \n",
       "0  alt.atheism    \n",
       "1  alt.atheism    \n",
       "2  alt.atheism    \n",
       "3  comp.graphics  \n",
       "4  alt.atheism    "
      ]
     },
     "execution_count": 118,
     "metadata": {},
     "output_type": "execute_result"
    }
   ],
   "source": [
    "sql = \"\"\"\n",
    "    select \n",
    "        * \n",
    "    from \n",
    "        YOUR_SCHEMA.twenty_news_groups \n",
    "        limit 100\n",
    "\"\"\"\n",
    "df = psql.read_sql(sql, conn)\n",
    "conn.commit()\n",
    "df.head()"
   ]
  },
  {
   "cell_type": "code",
   "execution_count": 119,
   "metadata": {
    "collapsed": false
   },
   "outputs": [],
   "source": [
    "def get_paragraph_vectors(df):\n",
    "    \"\"\"\n",
    "        Train paragraph vectors\n",
    "    \"\"\"\n",
    "    from gensim.models.doc2vec import TaggedDocument\n",
    "    from gensim.models import Doc2Vec\n",
    "    import pandas as pd    \n",
    "    #words=tokenize_document(d), tags=label) \n",
    "    docs = [\n",
    "            TaggedDocument(words=d.split(), tags=[label]) \n",
    "                for d, label in zip(df['contents'], df['doc_id'])\n",
    "           ]            \n",
    "    doc_ids = df['doc_id']\n",
    "    #Train doc2vec model in Gensim\n",
    "    model = Doc2Vec(\n",
    "                documents=docs, \n",
    "                min_count=1, \n",
    "                window=10, \n",
    "                size=10, \n",
    "                sample=1e-4, \n",
    "                negative=5, \n",
    "                workers=10\n",
    "            )\n",
    "    return model, docs"
   ]
  },
  {
   "cell_type": "code",
   "execution_count": 120,
   "metadata": {
    "collapsed": true
   },
   "outputs": [],
   "source": [
    "model, docs = get_paragraph_vectors(df)"
   ]
  },
  {
   "cell_type": "code",
   "execution_count": 121,
   "metadata": {
    "collapsed": false
   },
   "outputs": [
    {
     "name": "stdout",
     "output_type": "stream",
     "text": [
      "#num_documents 1491\n",
      "#doc_vec_size (10,)\n",
      "sample doc TaggedDocument(['From:', 'csfed@uxa.ecn.bgu.edu', '(Frank', 'Doss)', 'Subject:', 'Re:', 'Science', 'and', 'theories', 'Organization:', 'Educational', 'Computing', 'Network', 'Lines:', '27', 'NNTP-Posting-Host:', 'uxa.ecn.bgu.edu', 'In', 'article', '<C5u7Bq.J43@news.cso.uiuc.edu>', 'cobb@alexia.lis.uiuc.edu', '(Mike', 'Cobb)', 'writes:', '>The', 'examples', 'he', 'gave', 'were', 'quarks', 'and', 'continental', 'plates.', 'Are', 'there', 'Sounds', 'like', 'more', 'of', 'the', 'same.', 'Gods', 'were', 'used', 'to', 'describe', 'almost', 'everything', 'in', 'the', 'past.', 'As', 'we', 'come', 'to', 'understand', 'the', 'underpinnings', 'of', 'more', 'and', 'more,', 'the', 'less', 'we', 'credit', 'to', 'a', 'god.', 'Now,', 'the', 'not-so-well', 'understood', 'elements', '(at', 'least', 'by', 'the', 'author)', 'includes', 'quarks', 'and', 'tectonic', 'drift.', 'I', 'guess', \"that's\", 'better', 'than', 'describing', 'the', 'perceived', 'patterns', 'of', 'stars', 'in', 'the', 'sky', 'as', 'heroes', 'being', 'immortalized', 'by', 'the', 'gods.', 'Kinda', 'sounds', 'like', 'old-earth', 'creation--It', 'seems', 'that', 'life', 'did,', 'indeed,', 'evolve', 'from', 'a', 'common', 'ancestor.', 'What', 'caused', 'that', 'initial', 'common', 'ancestor?', 'Are', 'we', 'going', 'to', 'hear', 'another', 'debate', 'on', 'causeless', 'events?', ';-)', '>explanations', 'of', 'science', 'or', 'parts', 'of', 'theories', 'that', 'are', 'not', 'measurable', 'in', 'and', 'of', '>themselves,', 'or', 'can', 'everything', 'be', 'quantified,', 'measured,', 'tested,', 'etc.?', '>', '>MAC', '>', 'Michael', 'A.', 'Cobb', '--', 'Frank', 'Doss', 'The', 'above', 'stated', 'words', 'are', 'my', 'opinions', 'and', 'do', 'not', 'reflect', 'the', 'opinions,', 'attitudes,', 'or', 'policies', 'of', 'my', 'employer', 'or', 'any', 'affilliated', 'organizations.'], [173])\n",
      "doc_vec of sample doc [-0.01575762 -0.01492168  0.01897305  0.00346664  0.03451092 -0.02289915\n",
      " -0.02246265 -0.04376005 -0.01915518 -0.02978022]\n"
     ]
    }
   ],
   "source": [
    "print '#num_documents',len(model.docvecs)\n",
    "print '#doc_vec_size',model.docvecs[0].shape\n",
    "print 'sample doc',docs[0]\n",
    "print 'doc_vec of sample doc',model.docvecs[0]"
   ]
  },
  {
   "cell_type": "markdown",
   "metadata": {},
   "source": [
    "#### Obtain doc2vec representation of a new document"
   ]
  },
  {
   "cell_type": "code",
   "execution_count": 122,
   "metadata": {
    "collapsed": false
   },
   "outputs": [
    {
     "data": {
      "text/plain": [
       "array([ 0.00239663, -0.01788618,  0.05665193, -0.0151288 , -0.00252076,\n",
       "        0.03537806,  0.03646427,  0.01192429,  0.02087626,  0.0387573 ], dtype=float32)"
      ]
     },
     "execution_count": 122,
     "metadata": {},
     "output_type": "execute_result"
    }
   ],
   "source": [
    "model.infer_vector(['hello', 'world', 'bye', 'world'])"
   ]
  },
  {
   "cell_type": "markdown",
   "metadata": {},
   "source": [
    "## 4. Define PL/Python UDF to train doc2vec models"
   ]
  },
  {
   "cell_type": "code",
   "execution_count": 136,
   "metadata": {
    "collapsed": false
   },
   "outputs": [],
   "source": [
    "%%execsql\n",
    "--1) SFUNC: State transition function, part of a User-Defined-Aggregate definition\n",
    "-- This function will merely stack every row of input, into the GD variable\n",
    "drop function if exists YOUR_SCHEMA.stack_rows(\n",
    "    text,\n",
    "    text[],\n",
    "    text,\n",
    "    text,\n",
    "    text\n",
    ") cascade;\n",
    "create or replace function YOUR_SCHEMA.stack_rows(\n",
    "    key text,\n",
    "    header text[], -- name of the features column and the dependent variable column\n",
    "    doc_id text, -- id field for each document\n",
    "    content text, -- content of the document\n",
    "    label text -- dependent variable column\n",
    ")\n",
    "returns text\n",
    "as\n",
    "$$\n",
    "    if 'header' not in GD:\n",
    "        GD['header'] = header\n",
    "    if not key:\n",
    "        gd_key = 'stack_rows'\n",
    "        GD[gd_key] = [[doc_id, content, label]]\n",
    "        return gd_key\n",
    "    else:\n",
    "        GD[key].append([doc_id, content, label])\n",
    "        return key\n",
    "$$language plpythonu;\n",
    "\n",
    "--2) Define the User-Defined Aggregate (UDA) consisting of a state-transition function (SFUNC), \n",
    "-- a state variable and a FINALFUNC (optional)\n",
    "drop aggregate if exists YOUR_SCHEMA.stack_rows( \n",
    "    text[], -- header (feature names)\n",
    "    text, -- doc_id\n",
    "    text, -- document content,\n",
    "    text -- label\n",
    ") cascade;\n",
    "create ordered aggregate YOUR_SCHEMA.stack_rows(\n",
    "    text[], -- header (feature names)\n",
    "    text, -- doc_id\n",
    "    text, -- document content,\n",
    "    text -- label\n",
    ")\n",
    "(\n",
    "    SFUNC = YOUR_SCHEMA.stack_rows,\n",
    "    STYPE = text -- the key in GD used to hold the data across calls\n",
    ");\n",
    "\n",
    "--3) UDT to hold document vectors\n",
    "drop type if exists YOUR_SCHEMA.doc_vectors cascade;\n",
    "create type YOUR_SCHEMA.doc_vectors\n",
    "as\n",
    "(\n",
    "    doc_id text,\n",
    "    doc_vec float8[],\n",
    "    label text\n",
    ");\n",
    "\n",
    "--4) UDF for training doc2vec model in Gensim\n",
    "drop function if exists YOUR_SCHEMA.train_doc2vec(\n",
    "    text,\n",
    "    int,\n",
    "    int,\n",
    "    int\n",
    ");\n",
    "create or replace function YOUR_SCHEMA.train_doc2vec(\n",
    "    key text,\n",
    "    vect_size int,\n",
    "    window_size int,\n",
    "    num_workers int\n",
    ")\n",
    "returns setof YOUR_SCHEMA.doc_vectors\n",
    "as\n",
    "$$\n",
    "    from unicodedata import category as uc_cat\n",
    "    from nltk.tokenize import word_tokenize, sent_tokenize\n",
    "    from nltk.stem import WordNetLemmatizer\n",
    "    from nltk.corpus import stopwords\n",
    "    import string, re\n",
    "    from gensim.models.doc2vec import TaggedDocument\n",
    "    from gensim.models import Doc2Vec\n",
    "    import pandas as pd    \n",
    "    \n",
    "    def tokenize_document(doc):\n",
    "        \"\"\"\n",
    "            Use NLTK to tokenize document\n",
    "        \"\"\"        \n",
    "        #discard stopwords\n",
    "        stop_en = stopwords.words('english')\n",
    "        \n",
    "        #Use a wordnet lemmatizer to stem the tokens\n",
    "        wnl = WordNetLemmatizer()\n",
    "        \n",
    "        #tokenize the documents using NLTK\n",
    "        tokens = [w.strip().decode('utf8') for sent in sent_tokenize(doc) for w in word_tokenize(sent)] if doc else None\n",
    "        \n",
    "        if(not tokens):\n",
    "            return [(0, None),]\n",
    "\n",
    "        #Remove control characters\n",
    "        tokens = map(lambda x: ''.join(c for c in x if uc_cat(c) != 'Cc'), tokens)\n",
    "        \n",
    "        #Remove punctuations if they are tokens by themselves\n",
    "        tokens = filter(lambda x: x not in set(list(string.punctuation.decode('utf-8'))), tokens)\n",
    "        \n",
    "        #Replace phone numbers with <PHONE>\n",
    "        phone_pat = re.compile(r'''\n",
    "                        # don't match beginning of string, number can start anywhere\n",
    "            (\\d{1,2}-?)?\n",
    "            (\\d{3})     # area code is 3 digits (e.g. '800')\n",
    "            \\D*         # optional separator is any number of non-digits\n",
    "            (\\d{3})     # trunk is 3 digits (e.g. '555')\n",
    "            \\D*         # optional separator\n",
    "            (\\d{4})     # rest of number is 4 digits (e.g. '1212')\n",
    "            \\D*         # optional separator\n",
    "            (\\d*)       # extension is optional and can be any number of digits\n",
    "            $           # end of string\n",
    "            ''', re.VERBOSE)\n",
    "        tokens = map(lambda x: u'<PHONE>' if phone_pat.match(x) else x, tokens)\n",
    "        \n",
    "        #Replace numbers with <NUM>\n",
    "        num_pat = re.compile(r'^(-|\\+)?(\\d*).?(\\d+)')\n",
    "        tokens = map(lambda x: u'<NUM>' if num_pat.match(x) else x, tokens)\n",
    "        \n",
    "        #Replace dates\n",
    "        date_pat =  re.compile(r'^(\\d{1,2})(/|-)(\\d{1,2})(/|-)(\\d{2,4})$')\n",
    "        tokens = map(lambda x: u'<DATE>' if date_pat.match(x) else x, tokens)\n",
    "        \n",
    "        #Remove tokens which are solely composed on non-alpha characters\n",
    "        non_alpha = re.compile(r'''^(\\W+)$''', re.VERBOSE)\n",
    "        tokens = filter(lambda x: not non_alpha.match(x), tokens)\n",
    "        \n",
    "        #Strip out any lingering punctuations now that the document has been tokenized by NLTK\n",
    "        tokens = map(lambda x: ''.join(c for c in x if not uc_cat(c).startswith('P')), tokens)\n",
    "        \n",
    "        #use the wordnet lemmatizer\n",
    "        lemmatized_tokens = map(lambda x: wnl.lemmatize(x), tokens)\n",
    "        \n",
    "        #filter out empty tokens and stopwords\n",
    "        lemmatized_tokens = filter(lambda x: x and x.strip() and x.strip() not in stop_en, lemmatized_tokens)\n",
    "        return lemmatized_tokens\n",
    "    \n",
    "    def train_doc2vec():\n",
    "        \"\"\"\n",
    "            Train doc2vec models in gensim\n",
    "        \"\"\"\n",
    "        if key in GD:\n",
    "            header = GD['header']\n",
    "            plpy.info('Header:',header)\n",
    "            df = pd.DataFrame(GD[key], columns=header)\n",
    "            plpy.info('Dataframe shape:',df.shape)\n",
    "            docs = [\n",
    "                    TaggedDocument(words=tokenize_document(d), tags=[tag]) \n",
    "                        for d, tag in zip(df[header[1]], df[header[0]])\n",
    "                   ]            \n",
    "            doc_ids = df[header[0]]\n",
    "            labels = df[header[2]]\n",
    "            plpy.info('Training doc2vec')\n",
    "            #Train doc2vec model in Gensim\n",
    "            model = Doc2Vec(\n",
    "                        documents=docs, \n",
    "                        min_count=1, \n",
    "                        window=window_size, \n",
    "                        size=vect_size, \n",
    "                        sample=1e-4, \n",
    "                        negative=5, \n",
    "                        workers=num_workers\n",
    "                    )\n",
    "            return zip(doc_ids, model.docvecs, labels)\n",
    "    #Invoke doc2vec\n",
    "    return train_doc2vec()\n",
    "$$ language plpythonu;"
   ]
  },
  {
   "cell_type": "code",
   "execution_count": 108,
   "metadata": {
    "collapsed": false
   },
   "outputs": [],
   "source": [
    "%%execsql\n",
    "drop table if exists YOUR_SCHEMA.twenty_news_groups_doc2vec_representation cascade;\n",
    "create table YOUR_SCHEMA.twenty_news_groups_doc2vec_representation\n",
    "as\n",
    "(\n",
    "    select\n",
    "        (doc_vecs).*\n",
    "    from\n",
    "    (\n",
    "        select\n",
    "            YOUR_SCHEMA.train_doc2vec(\n",
    "                stacked_input_key,\n",
    "                20, -- size of the output vector\n",
    "                10, -- window_size\n",
    "                10 -- num_workers (threads)\n",
    "            ) as doc_vecs\n",
    "        from\n",
    "        (\n",
    "            select\n",
    "                YOUR_SCHEMA.stack_rows(\n",
    "                    ARRAY['doc_id', 'contents', 'label'], --header or names of input fields\n",
    "                    doc_id,\n",
    "                    contents,\n",
    "                    label\n",
    "                ) as stacked_input_key\n",
    "            from\n",
    "                YOUR_SCHEMA.twenty_news_groups\n",
    "        )q1\n",
    "    )q2\n",
    ") distributed by (doc_id);"
   ]
  },
  {
   "cell_type": "code",
   "execution_count": 143,
   "metadata": {
    "collapsed": false
   },
   "outputs": [
    {
     "data": {
      "text/html": [
       "<div>\n",
       "<table border=\"1\" class=\"dataframe\">\n",
       "  <thead>\n",
       "    <tr style=\"text-align: right;\">\n",
       "      <th></th>\n",
       "      <th>doc_id</th>\n",
       "      <th>doc_vec</th>\n",
       "      <th>label</th>\n",
       "    </tr>\n",
       "  </thead>\n",
       "  <tbody>\n",
       "    <tr>\n",
       "      <th>0</th>\n",
       "      <td>421</td>\n",
       "      <td>[-0.0162567, 0.00640558, -0.0319764, -0.0274248, -0.0372388, 0.0265061, -0.0343747, 0.0145012, -0.00209146, -0.0405663, 0.0343613, -0.0422859, -0.00206888, -0.0618418, 0.0100281, 0.00957236, 0.00245993, -0.0346243, -0.0275735, -0.00153059]</td>\n",
       "      <td>comp.graphics</td>\n",
       "    </tr>\n",
       "    <tr>\n",
       "      <th>1</th>\n",
       "      <td>142</td>\n",
       "      <td>[0.0287947, -0.0838569, -0.0781008, -0.0830135, -0.0775834, 0.0868943, -0.00836284, -0.00884065, 0.0409157, -0.0411672, -0.0979297, -0.0279642, -0.00306713, -0.00927339, -0.0885007, 0.0831769, 0.0211072, -0.00763965, -0.0741872, -0.00316988]</td>\n",
       "      <td>alt.atheism</td>\n",
       "    </tr>\n",
       "    <tr>\n",
       "      <th>2</th>\n",
       "      <td>1972</td>\n",
       "      <td>[0.0348526, -0.106675, -0.038423, -0.0955747, -0.0516444, 0.000549732, -0.162949, 0.0992188, 0.073194, -0.0691682, 0.120136, 0.00964684, -0.0750248, -0.0547911, 0.0520042, 0.134517, 0.129015, -0.0296789, 0.0156653, -0.0923599]</td>\n",
       "      <td>comp.windows.x</td>\n",
       "    </tr>\n",
       "    <tr>\n",
       "      <th>3</th>\n",
       "      <td>1998</td>\n",
       "      <td>[-0.0464875, 0.0649271, -0.203933, -0.327844, -0.180713, 0.216827, -0.21077, 0.122838, 0.0473668, -0.033562, 0.186332, 0.0773628, 0.0975556, -0.387927, 0.130198, 0.291937, 0.147604, 0.0510774, 0.100246, -0.141307]</td>\n",
       "      <td>comp.windows.x</td>\n",
       "    </tr>\n",
       "    <tr>\n",
       "      <th>4</th>\n",
       "      <td>490</td>\n",
       "      <td>[-0.041306, -0.0276567, -0.150082, -0.0194698, -0.0728029, -0.00425778, -0.0793157, 0.079874, 0.01403, -0.0435103, 0.0535301, -0.0623375, 0.00359212, -0.0864903, 0.0760027, -0.000643778, 0.0876219, 0.0501357, 0.0486506, 0.0460701]</td>\n",
       "      <td>comp.graphics</td>\n",
       "    </tr>\n",
       "    <tr>\n",
       "      <th>5</th>\n",
       "      <td>348</td>\n",
       "      <td>[0.00667879, -0.0491869, -0.0728234, -0.00277791, -0.0360861, 0.00700159, 0.0136226, 0.0410659, -0.00317544, -0.0239412, 0.022206, -0.008782, -0.00983796, -0.0160417, 0.0463907, 0.0865696, 0.0639555, 0.0126365, 0.0989312, 0.0249212]</td>\n",
       "      <td>comp.graphics</td>\n",
       "    </tr>\n",
       "    <tr>\n",
       "      <th>6</th>\n",
       "      <td>56</td>\n",
       "      <td>[0.150542, -0.159149, -0.306852, -0.125841, -0.144607, 0.137373, 0.009954, 0.02002, 0.16023, -0.0807755, -0.160564, -0.0232937, 0.104897, -0.0310717, -0.223183, 0.225264, 0.114698, 0.035119, -0.188344, -0.0676671]</td>\n",
       "      <td>alt.atheism</td>\n",
       "    </tr>\n",
       "    <tr>\n",
       "      <th>7</th>\n",
       "      <td>1316</td>\n",
       "      <td>[-0.0218237, -0.012275, -0.0668791, -0.0726829, -0.0889829, 0.0117783, -0.0310245, 0.0170602, 0.0407811, -0.0360363, 0.0462637, -0.0680719, -0.013038, -0.0113836, -0.0470533, 0.124959, 0.123977, -0.0828689, 0.0246666, 0.011108]</td>\n",
       "      <td>comp.sys.ibm.pc.hardware</td>\n",
       "    </tr>\n",
       "    <tr>\n",
       "      <th>8</th>\n",
       "      <td>1381</td>\n",
       "      <td>[-0.0254411, -0.0150829, -0.0534905, -0.0795205, -0.119269, -0.0371484, -0.0697154, 0.0776581, 0.145638, -0.0364588, 0.0337367, -0.00233214, -0.0182445, -0.000567661, -0.0398344, 0.0782709, 0.114415, -0.099335, 0.0186272, -0.111456]</td>\n",
       "      <td>comp.sys.ibm.pc.hardware</td>\n",
       "    </tr>\n",
       "    <tr>\n",
       "      <th>9</th>\n",
       "      <td>1778</td>\n",
       "      <td>[0.076093, -0.0202146, -0.17295, -0.144834, -0.12579, 0.042422, -0.0506727, 0.00326078, 0.0153817, -0.0408021, 0.10379, 0.0716964, 0.0486067, -0.0081311, -0.0505118, 0.196557, 0.167028, -0.106257, 0.0680318, -0.0123852]</td>\n",
       "      <td>comp.sys.mac.hardware</td>\n",
       "    </tr>\n",
       "  </tbody>\n",
       "</table>\n",
       "</div>"
      ],
      "text/plain": [
       "  doc_id  \\\n",
       "0  421     \n",
       "1  142     \n",
       "2  1972    \n",
       "3  1998    \n",
       "4  490     \n",
       "5  348     \n",
       "6  56      \n",
       "7  1316    \n",
       "8  1381    \n",
       "9  1778    \n",
       "\n",
       "                                                                                                                                                                                                                                             doc_vec  \\\n",
       "0  [-0.0162567, 0.00640558, -0.0319764, -0.0274248, -0.0372388, 0.0265061, -0.0343747, 0.0145012, -0.00209146, -0.0405663, 0.0343613, -0.0422859, -0.00206888, -0.0618418, 0.0100281, 0.00957236, 0.00245993, -0.0346243, -0.0275735, -0.00153059]     \n",
       "1  [0.0287947, -0.0838569, -0.0781008, -0.0830135, -0.0775834, 0.0868943, -0.00836284, -0.00884065, 0.0409157, -0.0411672, -0.0979297, -0.0279642, -0.00306713, -0.00927339, -0.0885007, 0.0831769, 0.0211072, -0.00763965, -0.0741872, -0.00316988]   \n",
       "2  [0.0348526, -0.106675, -0.038423, -0.0955747, -0.0516444, 0.000549732, -0.162949, 0.0992188, 0.073194, -0.0691682, 0.120136, 0.00964684, -0.0750248, -0.0547911, 0.0520042, 0.134517, 0.129015, -0.0296789, 0.0156653, -0.0923599]                  \n",
       "3  [-0.0464875, 0.0649271, -0.203933, -0.327844, -0.180713, 0.216827, -0.21077, 0.122838, 0.0473668, -0.033562, 0.186332, 0.0773628, 0.0975556, -0.387927, 0.130198, 0.291937, 0.147604, 0.0510774, 0.100246, -0.141307]                               \n",
       "4  [-0.041306, -0.0276567, -0.150082, -0.0194698, -0.0728029, -0.00425778, -0.0793157, 0.079874, 0.01403, -0.0435103, 0.0535301, -0.0623375, 0.00359212, -0.0864903, 0.0760027, -0.000643778, 0.0876219, 0.0501357, 0.0486506, 0.0460701]              \n",
       "5  [0.00667879, -0.0491869, -0.0728234, -0.00277791, -0.0360861, 0.00700159, 0.0136226, 0.0410659, -0.00317544, -0.0239412, 0.022206, -0.008782, -0.00983796, -0.0160417, 0.0463907, 0.0865696, 0.0639555, 0.0126365, 0.0989312, 0.0249212]            \n",
       "6  [0.150542, -0.159149, -0.306852, -0.125841, -0.144607, 0.137373, 0.009954, 0.02002, 0.16023, -0.0807755, -0.160564, -0.0232937, 0.104897, -0.0310717, -0.223183, 0.225264, 0.114698, 0.035119, -0.188344, -0.0676671]                               \n",
       "7  [-0.0218237, -0.012275, -0.0668791, -0.0726829, -0.0889829, 0.0117783, -0.0310245, 0.0170602, 0.0407811, -0.0360363, 0.0462637, -0.0680719, -0.013038, -0.0113836, -0.0470533, 0.124959, 0.123977, -0.0828689, 0.0246666, 0.011108]                 \n",
       "8  [-0.0254411, -0.0150829, -0.0534905, -0.0795205, -0.119269, -0.0371484, -0.0697154, 0.0776581, 0.145638, -0.0364588, 0.0337367, -0.00233214, -0.0182445, -0.000567661, -0.0398344, 0.0782709, 0.114415, -0.099335, 0.0186272, -0.111456]            \n",
       "9  [0.076093, -0.0202146, -0.17295, -0.144834, -0.12579, 0.042422, -0.0506727, 0.00326078, 0.0153817, -0.0408021, 0.10379, 0.0716964, 0.0486067, -0.0081311, -0.0505118, 0.196557, 0.167028, -0.106257, 0.0680318, -0.0123852]                         \n",
       "\n",
       "                      label  \n",
       "0  comp.graphics             \n",
       "1  alt.atheism               \n",
       "2  comp.windows.x            \n",
       "3  comp.windows.x            \n",
       "4  comp.graphics             \n",
       "5  comp.graphics             \n",
       "6  alt.atheism               \n",
       "7  comp.sys.ibm.pc.hardware  \n",
       "8  comp.sys.ibm.pc.hardware  \n",
       "9  comp.sys.mac.hardware     "
      ]
     },
     "metadata": {},
     "output_type": "display_data"
    }
   ],
   "source": [
    "%%showsql\n",
    "select\n",
    "    *\n",
    "from\n",
    "    YOUR_SCHEMA.twenty_news_groups_doc2vec_representation\n",
    "limit 10;"
   ]
  },
  {
   "cell_type": "markdown",
   "metadata": {},
   "source": [
    "## 5. Create train & test split"
   ]
  },
  {
   "cell_type": "code",
   "execution_count": 144,
   "metadata": {
    "collapsed": false
   },
   "outputs": [],
   "source": [
    "%%execsql\n",
    "-- Set the seed to ensure the random splits are repeatable\n",
    "-- This is important if you want to measure performance \n",
    "-- of classifiers based by varying the \"num_bits\" parameter\n",
    "-- Note: You should run the setseed() statement and the following create temp table statement as a single\n",
    "-- transaction.\n",
    "select setseed(0.5);\n",
    "drop table if exists doc2vec_train_test_split cascade;\n",
    "create temp table doc2vec_train_test_split\n",
    "as\n",
    "(\n",
    "    select\n",
    "        doc_id,\n",
    "        doc_vec as feature_vector,\n",
    "        -- to create a binary classification problem\n",
    "        -- consider the task as being able to predict if a document is related to computers or not            \n",
    "        case \n",
    "            when label ~* 'comp.*' then 1 \n",
    "            else 0\n",
    "        end as label,\n",
    "        random() as splitter\n",
    "    from\n",
    "        YOUR_SCHEMA.twenty_news_groups_doc2vec_representation\n",
    ") distributed randomly;\n",
    "\n",
    "-- Training set\n",
    "drop table if exists YOUR_SCHEMA.doc2vec_training_set cascade;\n",
    "create table YOUR_SCHEMA.doc2vec_training_set\n",
    "as\n",
    "(\n",
    "    select \n",
    "        doc_id,\n",
    "        feature_vector,\n",
    "        label\n",
    "    from\n",
    "        doc2vec_train_test_split\n",
    "    where \n",
    "        splitter <= 0.75\n",
    ") distributed randomly;\n",
    "\n",
    "-- Test set\n",
    "drop table if exists YOUR_SCHEMA.doc2vec_test_set cascade;\n",
    "create table YOUR_SCHEMA.doc2vec_test_set\n",
    "as\n",
    "(\n",
    "    select \n",
    "        doc_id,\n",
    "        feature_vector,\n",
    "        label\n",
    "    from\n",
    "        doc2vec_train_test_split\n",
    "    where \n",
    "        splitter > 0.75\n",
    ") distributed randomly; "
   ]
  },
  {
   "cell_type": "markdown",
   "metadata": {},
   "source": [
    "## 6. Train classifier"
   ]
  },
  {
   "cell_type": "code",
   "execution_count": 145,
   "metadata": {
    "collapsed": true
   },
   "outputs": [],
   "source": [
    "%%execsql\n",
    "drop table if exists YOUR_SCHEMA.doc2vec_logregr_mdl;\n",
    "drop table if exists YOUR_SCHEMA.doc2vec_logregr_mdl_summary;\n",
    "select \n",
    "    madlib.logregr_train( \n",
    "        'YOUR_SCHEMA.doc2vec_training_set',\n",
    "        'YOUR_SCHEMA.doc2vec_logregr_mdl',\n",
    "        'label',\n",
    "        'feature_vector',\n",
    "        NULL,\n",
    "        20,\n",
    "        'irls'\n",
    ");"
   ]
  },
  {
   "cell_type": "markdown",
   "metadata": {},
   "source": [
    "## 7. Score using trained classifier"
   ]
  },
  {
   "cell_type": "code",
   "execution_count": 146,
   "metadata": {
    "collapsed": true
   },
   "outputs": [],
   "source": [
    "%%execsql\n",
    "drop table if exists YOUR_SCHEMA.doc2vec_prediction_results cascade;\n",
    "create table YOUR_SCHEMA.doc2vec_prediction_results\n",
    "as\n",
    "(\n",
    "    select\n",
    "        doc_id,\n",
    "        label as actual_label,\n",
    "        madlib.logregr_predict(\n",
    "            coef,\n",
    "            feature_vector\n",
    "        ) as predicted_label,            \n",
    "        madlib.logregr_predict_prob(\n",
    "            coef,\n",
    "            feature_vector\n",
    "        ) as predicted_label_proba\n",
    "    from\n",
    "        YOUR_SCHEMA.doc2vec_logregr_mdl mdl,\n",
    "        YOUR_SCHEMA.doc2vec_test_set test_set\n",
    ") distributed randomly;"
   ]
  },
  {
   "cell_type": "markdown",
   "metadata": {},
   "source": [
    "## 8. Check ROC"
   ]
  },
  {
   "cell_type": "code",
   "execution_count": 147,
   "metadata": {
    "collapsed": false
   },
   "outputs": [
    {
     "data": {
      "text/html": [
       "<div>\n",
       "<table border=\"1\" class=\"dataframe\">\n",
       "  <thead>\n",
       "    <tr style=\"text-align: right;\">\n",
       "      <th></th>\n",
       "      <th>doc_id</th>\n",
       "      <th>actual_label</th>\n",
       "      <th>predicted_label</th>\n",
       "      <th>predicted_label_proba</th>\n",
       "    </tr>\n",
       "  </thead>\n",
       "  <tbody>\n",
       "    <tr>\n",
       "      <th>0</th>\n",
       "      <td>1117</td>\n",
       "      <td>1</td>\n",
       "      <td>True</td>\n",
       "      <td>8.796557e-01</td>\n",
       "    </tr>\n",
       "    <tr>\n",
       "      <th>1</th>\n",
       "      <td>3137</td>\n",
       "      <td>0</td>\n",
       "      <td>False</td>\n",
       "      <td>9.659613e-02</td>\n",
       "    </tr>\n",
       "    <tr>\n",
       "      <th>2</th>\n",
       "      <td>8</td>\n",
       "      <td>0</td>\n",
       "      <td>False</td>\n",
       "      <td>2.318031e-01</td>\n",
       "    </tr>\n",
       "    <tr>\n",
       "      <th>3</th>\n",
       "      <td>307</td>\n",
       "      <td>0</td>\n",
       "      <td>False</td>\n",
       "      <td>4.319086e-02</td>\n",
       "    </tr>\n",
       "    <tr>\n",
       "      <th>4</th>\n",
       "      <td>13970</td>\n",
       "      <td>0</td>\n",
       "      <td>False</td>\n",
       "      <td>1.169033e-08</td>\n",
       "    </tr>\n",
       "  </tbody>\n",
       "</table>\n",
       "</div>"
      ],
      "text/plain": [
       "  doc_id  actual_label predicted_label  predicted_label_proba\n",
       "0  1117   1             True            8.796557e-01         \n",
       "1  3137   0             False           9.659613e-02         \n",
       "2  8      0             False           2.318031e-01         \n",
       "3  307    0             False           4.319086e-02         \n",
       "4  13970  0             False           1.169033e-08         "
      ]
     },
     "execution_count": 147,
     "metadata": {},
     "output_type": "execute_result"
    }
   ],
   "source": [
    "sql = \"\"\"\n",
    "    select\n",
    "        doc_id,\n",
    "        actual_label,\n",
    "        predicted_label,\n",
    "        predicted_label_proba\n",
    "    from\n",
    "        YOUR_SCHEMA.doc2vec_prediction_results\n",
    "\"\"\"\n",
    "df = psql.read_sql(sql, conn)\n",
    "conn.commit()\n",
    "df.head()"
   ]
  },
  {
   "cell_type": "code",
   "execution_count": 148,
   "metadata": {
    "collapsed": false
   },
   "outputs": [
    {
     "data": {
      "image/png": "[encoded data removed]",
      "text/plain": [
       "<matplotlib.figure.Figure at 0x1214de1d0>"
      ]
     },
     "metadata": {},
     "output_type": "display_data"
    }
   ],
   "source": [
    "from sklearn import metrics\n",
    "import seaborn as sns\n",
    "import matplotlib.pyplot as plt\n",
    "import pandas as pd\n",
    "import numpy as np\n",
    "fpr, tpr, thresholds = metrics.roc_curve(\n",
    "                            df['actual_label'].tolist(),\n",
    "                            df['predicted_label_proba'].tolist(), \n",
    "                            pos_label=1\n",
    "                        )\n",
    "auc = metrics.auc(fpr, tpr)\n",
    "rocdf = pd.DataFrame(np.transpose([fpr, tpr, thresholds]), columns = ['fpr','tpr','thresholds'])\n",
    "rocdf.plot(x='fpr',y='tpr', label='AUC:{0}'.format(auc))\n",
    "plt.xlabel('False Positive Rate')\n",
    "plt.ylabel('True Positive Rate')\n",
    "plt.title('Logistic regression model on Paragraph Vector')\n",
    "plt.show()"
   ]
  },
  {
   "cell_type": "markdown",
   "metadata": {},
   "source": [
    "From the ROC curve above, we observe that 20-dimensional doc2vec encoding of the newsgroups dataset achieves an accuracy of 0.91, which is comparable to the performance of a 634-dimensional tf-idf vector representation. By increasing the doc2vec size to 100, we get equal performance as the tf-idf representation (0.94)."
   ]
  }
 ],
 "metadata": {
  "kernelspec": {
   "display_name": "Python 2",
   "language": "python",
   "name": "python2"
  },
  "language_info": {
   "codemirror_mode": {
    "name": "ipython",
    "version": 2
   },
   "file_extension": ".py",
   "mimetype": "text/x-python",
   "name": "python",
   "nbconvert_exporter": "python",
   "pygments_lexer": "ipython2",
   "version": "2.7.11"
  }
 },
 "nbformat": 4,
 "nbformat_minor": 0
}
